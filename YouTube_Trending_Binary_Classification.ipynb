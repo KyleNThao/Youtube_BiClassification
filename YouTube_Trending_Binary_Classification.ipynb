{
  "nbformat": 4,
  "nbformat_minor": 0,
  "metadata": {
    "kernelspec": {
      "display_name": "Python 3",
      "language": "python",
      "name": "python3"
    },
    "language_info": {
      "codemirror_mode": {
        "name": "ipython",
        "version": 3
      },
      "file_extension": ".py",
      "mimetype": "text/x-python",
      "name": "python",
      "nbconvert_exporter": "python",
      "pygments_lexer": "ipython3",
      "version": "3.7.3"
    },
    "colab": {
      "name": "YouTube Trending Binary Classification.ipynb",
      "provenance": [],
      "collapsed_sections": [],
      "toc_visible": true
    }
  },
  "cells": [
    {
      "cell_type": "code",
      "metadata": {
        "id": "KEPLfn2-csGZ"
      },
      "source": [
        "import collections\n",
        "import pandas as pd\n",
        "import csv\n",
        "from sklearn import preprocessing\n",
        "import matplotlib.pyplot as plt\n",
        "from sklearn.model_selection import train_test_split\n",
        "import numpy as np\n",
        "from scipy.stats import zscore\n",
        "import seaborn as sns\n",
        "import time"
      ],
      "execution_count": null,
      "outputs": []
    },
    {
      "cell_type": "code",
      "metadata": {
        "id": "4DtbyoOQcsGj"
      },
      "source": [
        "#Formatting string for time.\n",
        "def hms_string(sec_elapsed):\n",
        "    h = int(sec_elapsed / (60 * 60))\n",
        "    m = int((sec_elapsed % (60 * 60)) / 60)\n",
        "    s = sec_elapsed % 60\n",
        "    return \"{}:{:>02}:{:>05.2f}\".format(h, m, s)"
      ],
      "execution_count": null,
      "outputs": []
    },
    {
      "cell_type": "markdown",
      "metadata": {
        "id": "jxEUvw91csGq"
      },
      "source": [
        "# Read in the data of trended US Youtube videos"
      ]
    },
    {
      "cell_type": "code",
      "metadata": {
        "id": "Ve7YT8HFcsGs"
      },
      "source": [
        "data = pd.read_csv('USvideos.csv')\n",
        "data.columns = [ 'video_id',\n",
        "'trending_date',\n",
        "'title',\n",
        "'channel_title',\n",
        "'category_id',\n",
        "'publish_time',\n",
        "'tags',\n",
        "'views',\n",
        "'likes',\n",
        "'dislikes',\n",
        "'comment_count',\n",
        "'thumbnail_link',\n",
        "'comments_disabled',\n",
        "'ratings_disabled',\n",
        "'video_error_or_removed',\n",
        "'description' ]\n",
        "data.description = data.description.astype(str)"
      ],
      "execution_count": null,
      "outputs": []
    },
    {
      "cell_type": "code",
      "metadata": {
        "scrolled": true,
        "id": "Y8y59qSdcsGx",
        "colab": {
          "base_uri": "https://localhost:8080/",
          "height": 544
        },
        "outputId": "b75f1705-7827-436f-e597-a5618e75d04d"
      },
      "source": [
        "data.head()"
      ],
      "execution_count": null,
      "outputs": [
        {
          "output_type": "execute_result",
          "data": {
            "text/html": [
              "<div>\n",
              "<style scoped>\n",
              "    .dataframe tbody tr th:only-of-type {\n",
              "        vertical-align: middle;\n",
              "    }\n",
              "\n",
              "    .dataframe tbody tr th {\n",
              "        vertical-align: top;\n",
              "    }\n",
              "\n",
              "    .dataframe thead th {\n",
              "        text-align: right;\n",
              "    }\n",
              "</style>\n",
              "<table border=\"1\" class=\"dataframe\">\n",
              "  <thead>\n",
              "    <tr style=\"text-align: right;\">\n",
              "      <th></th>\n",
              "      <th>trending_date</th>\n",
              "      <th>title</th>\n",
              "      <th>channel_title</th>\n",
              "      <th>category_id</th>\n",
              "      <th>publish_time</th>\n",
              "      <th>tags</th>\n",
              "      <th>views</th>\n",
              "      <th>likes</th>\n",
              "      <th>dislikes</th>\n",
              "      <th>comment_count</th>\n",
              "      <th>thumbnail_link</th>\n",
              "      <th>comments_disabled</th>\n",
              "      <th>ratings_disabled</th>\n",
              "      <th>video_error_or_removed</th>\n",
              "      <th>description</th>\n",
              "    </tr>\n",
              "    <tr>\n",
              "      <th>video_id</th>\n",
              "      <th></th>\n",
              "      <th></th>\n",
              "      <th></th>\n",
              "      <th></th>\n",
              "      <th></th>\n",
              "      <th></th>\n",
              "      <th></th>\n",
              "      <th></th>\n",
              "      <th></th>\n",
              "      <th></th>\n",
              "      <th></th>\n",
              "      <th></th>\n",
              "      <th></th>\n",
              "      <th></th>\n",
              "      <th></th>\n",
              "    </tr>\n",
              "  </thead>\n",
              "  <tbody>\n",
              "    <tr>\n",
              "      <th>2kyS6SvSYSE</th>\n",
              "      <td>17.14.11</td>\n",
              "      <td>WE WANT TO TALK ABOUT OUR MARRIAGE</td>\n",
              "      <td>CaseyNeistat</td>\n",
              "      <td>22</td>\n",
              "      <td>2017-11-13T17:13:01.000Z</td>\n",
              "      <td>SHANtell martin</td>\n",
              "      <td>748374.0</td>\n",
              "      <td>57527.0</td>\n",
              "      <td>2966.0</td>\n",
              "      <td>15954.0</td>\n",
              "      <td>https://i.ytimg.com/vi/2kyS6SvSYSE/default.jpg</td>\n",
              "      <td>False</td>\n",
              "      <td>False</td>\n",
              "      <td>False</td>\n",
              "      <td>SHANTELL'S CHANNEL - https://www.youtube.com/s...</td>\n",
              "    </tr>\n",
              "    <tr>\n",
              "      <th>1ZAPwfrtAFY</th>\n",
              "      <td>17.14.11</td>\n",
              "      <td>The Trump Presidency: Last Week Tonight with J...</td>\n",
              "      <td>LastWeekTonight</td>\n",
              "      <td>24</td>\n",
              "      <td>2017-11-13T07:30:00.000Z</td>\n",
              "      <td>last week tonight trump presidency|\"last week ...</td>\n",
              "      <td>2418783.0</td>\n",
              "      <td>97185.0</td>\n",
              "      <td>6146.0</td>\n",
              "      <td>12703.0</td>\n",
              "      <td>https://i.ytimg.com/vi/1ZAPwfrtAFY/default.jpg</td>\n",
              "      <td>False</td>\n",
              "      <td>False</td>\n",
              "      <td>False</td>\n",
              "      <td>One year after the presidential election, John...</td>\n",
              "    </tr>\n",
              "    <tr>\n",
              "      <th>5qpjK5DgCt4</th>\n",
              "      <td>17.14.11</td>\n",
              "      <td>Racist Superman | Rudy Mancuso, King Bach &amp; Le...</td>\n",
              "      <td>Rudy Mancuso</td>\n",
              "      <td>23</td>\n",
              "      <td>2017-11-12T19:05:24.000Z</td>\n",
              "      <td>racist superman|\"rudy\"|\"mancuso\"|\"king\"|\"bach\"...</td>\n",
              "      <td>3191434.0</td>\n",
              "      <td>146033.0</td>\n",
              "      <td>5339.0</td>\n",
              "      <td>8181.0</td>\n",
              "      <td>https://i.ytimg.com/vi/5qpjK5DgCt4/default.jpg</td>\n",
              "      <td>False</td>\n",
              "      <td>False</td>\n",
              "      <td>False</td>\n",
              "      <td>WATCH MY PREVIOUS VIDEO ▶ \\n\\nSUBSCRIBE ► http...</td>\n",
              "    </tr>\n",
              "    <tr>\n",
              "      <th>puqaWrEC7tY</th>\n",
              "      <td>17.14.11</td>\n",
              "      <td>Nickelback Lyrics: Real or Fake?</td>\n",
              "      <td>Good Mythical Morning</td>\n",
              "      <td>24</td>\n",
              "      <td>2017-11-13T11:00:04.000Z</td>\n",
              "      <td>rhett and link|\"gmm\"|\"good mythical morning\"|\"...</td>\n",
              "      <td>343168.0</td>\n",
              "      <td>10172.0</td>\n",
              "      <td>666.0</td>\n",
              "      <td>2146.0</td>\n",
              "      <td>https://i.ytimg.com/vi/puqaWrEC7tY/default.jpg</td>\n",
              "      <td>False</td>\n",
              "      <td>False</td>\n",
              "      <td>False</td>\n",
              "      <td>Today we find out if Link is a Nickelback amat...</td>\n",
              "    </tr>\n",
              "    <tr>\n",
              "      <th>d380meD0W0M</th>\n",
              "      <td>17.14.11</td>\n",
              "      <td>I Dare You: GOING BALD!?</td>\n",
              "      <td>nigahiga</td>\n",
              "      <td>24</td>\n",
              "      <td>2017-11-12T18:01:41.000Z</td>\n",
              "      <td>ryan|\"higa\"|\"higatv\"|\"nigahiga\"|\"i dare you\"|\"...</td>\n",
              "      <td>2095731.0</td>\n",
              "      <td>132235.0</td>\n",
              "      <td>1989.0</td>\n",
              "      <td>17518.0</td>\n",
              "      <td>https://i.ytimg.com/vi/d380meD0W0M/default.jpg</td>\n",
              "      <td>False</td>\n",
              "      <td>False</td>\n",
              "      <td>False</td>\n",
              "      <td>I know it's been a while since we did this sho...</td>\n",
              "    </tr>\n",
              "  </tbody>\n",
              "</table>\n",
              "</div>"
            ],
            "text/plain": [
              "            trending_date  ...                                        description\n",
              "video_id                   ...                                                   \n",
              "2kyS6SvSYSE      17.14.11  ...  SHANTELL'S CHANNEL - https://www.youtube.com/s...\n",
              "1ZAPwfrtAFY      17.14.11  ...  One year after the presidential election, John...\n",
              "5qpjK5DgCt4      17.14.11  ...  WATCH MY PREVIOUS VIDEO ▶ \\n\\nSUBSCRIBE ► http...\n",
              "puqaWrEC7tY      17.14.11  ...  Today we find out if Link is a Nickelback amat...\n",
              "d380meD0W0M      17.14.11  ...  I know it's been a while since we did this sho...\n",
              "\n",
              "[5 rows x 15 columns]"
            ]
          },
          "metadata": {
            "tags": []
          },
          "execution_count": 15
        }
      ]
    },
    {
      "cell_type": "code",
      "metadata": {
        "scrolled": false,
        "id": "kBuFu7dNcsG4",
        "outputId": "430e53ee-a602-4ddc-b17d-fec8230f2fc9"
      },
      "source": [
        "import json\n",
        "id_to_category = {}\n",
        "\n",
        "type_str_list = ['category_id']\n",
        "for column in type_str_list:\n",
        "    data[column] = data[column].astype(str)\n",
        "    \n",
        "with open('youtube-new/US_category_id.json', 'r') as f:\n",
        "    data2 = json.load(f)\n",
        "    for category in data2['items']:\n",
        "        id_to_category[category['id']] = category['snippet']['title']\n",
        "id_to_category\n",
        "\n",
        "data.insert(4, 'category', data['category_id'].map(id_to_category))\n",
        "data[['category_id', 'category']].head()"
      ],
      "execution_count": null,
      "outputs": [
        {
          "output_type": "execute_result",
          "data": {
            "text/html": [
              "<div>\n",
              "<style scoped>\n",
              "    .dataframe tbody tr th:only-of-type {\n",
              "        vertical-align: middle;\n",
              "    }\n",
              "\n",
              "    .dataframe tbody tr th {\n",
              "        vertical-align: top;\n",
              "    }\n",
              "\n",
              "    .dataframe thead th {\n",
              "        text-align: right;\n",
              "    }\n",
              "</style>\n",
              "<table border=\"1\" class=\"dataframe\">\n",
              "  <thead>\n",
              "    <tr style=\"text-align: right;\">\n",
              "      <th></th>\n",
              "      <th>category_id</th>\n",
              "      <th>category</th>\n",
              "    </tr>\n",
              "  </thead>\n",
              "  <tbody>\n",
              "    <tr>\n",
              "      <th>0</th>\n",
              "      <td>22</td>\n",
              "      <td>People &amp; Blogs</td>\n",
              "    </tr>\n",
              "    <tr>\n",
              "      <th>1</th>\n",
              "      <td>24</td>\n",
              "      <td>Entertainment</td>\n",
              "    </tr>\n",
              "    <tr>\n",
              "      <th>2</th>\n",
              "      <td>23</td>\n",
              "      <td>Comedy</td>\n",
              "    </tr>\n",
              "    <tr>\n",
              "      <th>3</th>\n",
              "      <td>24</td>\n",
              "      <td>Entertainment</td>\n",
              "    </tr>\n",
              "    <tr>\n",
              "      <th>4</th>\n",
              "      <td>24</td>\n",
              "      <td>Entertainment</td>\n",
              "    </tr>\n",
              "  </tbody>\n",
              "</table>\n",
              "</div>"
            ],
            "text/plain": [
              "  category_id        category\n",
              "0          22  People & Blogs\n",
              "1          24   Entertainment\n",
              "2          23          Comedy\n",
              "3          24   Entertainment\n",
              "4          24   Entertainment"
            ]
          },
          "metadata": {
            "tags": []
          },
          "execution_count": 5
        }
      ]
    },
    {
      "cell_type": "markdown",
      "metadata": {
        "id": "64EhEpgdcsG9"
      },
      "source": [
        "# Encoding data\n",
        "Encoding the categorical classification of each video as the y_data"
      ]
    },
    {
      "cell_type": "code",
      "metadata": {
        "scrolled": true,
        "id": "1oQNSkUFcsG_",
        "outputId": "425654dd-6e6c-4c62-abd5-23e3276ff03e"
      },
      "source": [
        "y_data = data['category']\n",
        "y_data = pd.get_dummies(y_data, columns=['category'], drop_first = True)\n",
        "y_data.head()"
      ],
      "execution_count": null,
      "outputs": [
        {
          "output_type": "execute_result",
          "data": {
            "text/html": [
              "<div>\n",
              "<style scoped>\n",
              "    .dataframe tbody tr th:only-of-type {\n",
              "        vertical-align: middle;\n",
              "    }\n",
              "\n",
              "    .dataframe tbody tr th {\n",
              "        vertical-align: top;\n",
              "    }\n",
              "\n",
              "    .dataframe thead th {\n",
              "        text-align: right;\n",
              "    }\n",
              "</style>\n",
              "<table border=\"1\" class=\"dataframe\">\n",
              "  <thead>\n",
              "    <tr style=\"text-align: right;\">\n",
              "      <th></th>\n",
              "      <th>Comedy</th>\n",
              "      <th>Education</th>\n",
              "      <th>Entertainment</th>\n",
              "      <th>Film &amp; Animation</th>\n",
              "      <th>Gaming</th>\n",
              "      <th>Howto &amp; Style</th>\n",
              "      <th>Music</th>\n",
              "      <th>News &amp; Politics</th>\n",
              "      <th>Nonprofits &amp; Activism</th>\n",
              "      <th>People &amp; Blogs</th>\n",
              "      <th>Pets &amp; Animals</th>\n",
              "      <th>Science &amp; Technology</th>\n",
              "      <th>Shows</th>\n",
              "      <th>Sports</th>\n",
              "      <th>Travel &amp; Events</th>\n",
              "    </tr>\n",
              "  </thead>\n",
              "  <tbody>\n",
              "    <tr>\n",
              "      <th>0</th>\n",
              "      <td>0</td>\n",
              "      <td>0</td>\n",
              "      <td>0</td>\n",
              "      <td>0</td>\n",
              "      <td>0</td>\n",
              "      <td>0</td>\n",
              "      <td>0</td>\n",
              "      <td>0</td>\n",
              "      <td>0</td>\n",
              "      <td>1</td>\n",
              "      <td>0</td>\n",
              "      <td>0</td>\n",
              "      <td>0</td>\n",
              "      <td>0</td>\n",
              "      <td>0</td>\n",
              "    </tr>\n",
              "    <tr>\n",
              "      <th>1</th>\n",
              "      <td>0</td>\n",
              "      <td>0</td>\n",
              "      <td>1</td>\n",
              "      <td>0</td>\n",
              "      <td>0</td>\n",
              "      <td>0</td>\n",
              "      <td>0</td>\n",
              "      <td>0</td>\n",
              "      <td>0</td>\n",
              "      <td>0</td>\n",
              "      <td>0</td>\n",
              "      <td>0</td>\n",
              "      <td>0</td>\n",
              "      <td>0</td>\n",
              "      <td>0</td>\n",
              "    </tr>\n",
              "    <tr>\n",
              "      <th>2</th>\n",
              "      <td>1</td>\n",
              "      <td>0</td>\n",
              "      <td>0</td>\n",
              "      <td>0</td>\n",
              "      <td>0</td>\n",
              "      <td>0</td>\n",
              "      <td>0</td>\n",
              "      <td>0</td>\n",
              "      <td>0</td>\n",
              "      <td>0</td>\n",
              "      <td>0</td>\n",
              "      <td>0</td>\n",
              "      <td>0</td>\n",
              "      <td>0</td>\n",
              "      <td>0</td>\n",
              "    </tr>\n",
              "    <tr>\n",
              "      <th>3</th>\n",
              "      <td>0</td>\n",
              "      <td>0</td>\n",
              "      <td>1</td>\n",
              "      <td>0</td>\n",
              "      <td>0</td>\n",
              "      <td>0</td>\n",
              "      <td>0</td>\n",
              "      <td>0</td>\n",
              "      <td>0</td>\n",
              "      <td>0</td>\n",
              "      <td>0</td>\n",
              "      <td>0</td>\n",
              "      <td>0</td>\n",
              "      <td>0</td>\n",
              "      <td>0</td>\n",
              "    </tr>\n",
              "    <tr>\n",
              "      <th>4</th>\n",
              "      <td>0</td>\n",
              "      <td>0</td>\n",
              "      <td>1</td>\n",
              "      <td>0</td>\n",
              "      <td>0</td>\n",
              "      <td>0</td>\n",
              "      <td>0</td>\n",
              "      <td>0</td>\n",
              "      <td>0</td>\n",
              "      <td>0</td>\n",
              "      <td>0</td>\n",
              "      <td>0</td>\n",
              "      <td>0</td>\n",
              "      <td>0</td>\n",
              "      <td>0</td>\n",
              "    </tr>\n",
              "  </tbody>\n",
              "</table>\n",
              "</div>"
            ],
            "text/plain": [
              "   Comedy  Education  Entertainment  Film & Animation  Gaming  Howto & Style  \\\n",
              "0       0          0              0                 0       0              0   \n",
              "1       0          0              1                 0       0              0   \n",
              "2       1          0              0                 0       0              0   \n",
              "3       0          0              1                 0       0              0   \n",
              "4       0          0              1                 0       0              0   \n",
              "\n",
              "   Music  News & Politics  Nonprofits & Activism  People & Blogs  \\\n",
              "0      0                0                      0               1   \n",
              "1      0                0                      0               0   \n",
              "2      0                0                      0               0   \n",
              "3      0                0                      0               0   \n",
              "4      0                0                      0               0   \n",
              "\n",
              "   Pets & Animals  Science & Technology  Shows  Sports  Travel & Events  \n",
              "0               0                     0      0       0                0  \n",
              "1               0                     0      0       0                0  \n",
              "2               0                     0      0       0                0  \n",
              "3               0                     0      0       0                0  \n",
              "4               0                     0      0       0                0  "
            ]
          },
          "metadata": {
            "tags": []
          },
          "execution_count": 6
        }
      ]
    },
    {
      "cell_type": "markdown",
      "metadata": {
        "id": "qWnjXF6KcsHE"
      },
      "source": [
        "# Graph visualizing the category distribution of videos in the United States"
      ]
    },
    {
      "cell_type": "code",
      "metadata": {
        "scrolled": true,
        "id": "MfF7hB-3csHF",
        "outputId": "a126e531-5d1f-418c-fc55-13ed0fa074f3"
      },
      "source": [
        "cat_df_gb = data['category'].value_counts().reset_index()\n",
        "plt.figure(figsize=(15,10))\n",
        "sns.set_style(\"whitegrid\")\n",
        "ax = sns.barplot(y=cat_df_gb['index'],x=cat_df_gb['category'], data=cat_df_gb,orient='h')\n",
        "plt.xlabel(\"Number of Videos\")## From United States users : \n",
        "plt.ylabel(\"Categories\")\n",
        "plt.title(\"Categories of trend videos in United States\")"
      ],
      "execution_count": null,
      "outputs": [
        {
          "output_type": "execute_result",
          "data": {
            "text/plain": [
              "Text(0.5, 1.0, 'Categories of trend videos in United States')"
            ]
          },
          "metadata": {
            "tags": []
          },
          "execution_count": 11
        },
        {
          "output_type": "display_data",
          "data": {
            "image/png": "[encoded data removed]",
            "text/plain": [
              "<Figure size 1080x720 with 1 Axes>"
            ]
          },
          "metadata": {
            "tags": []
          }
        }
      ]
    },
    {
      "cell_type": "markdown",
      "metadata": {
        "id": "ILPPXG8McsHJ"
      },
      "source": [
        "# Normalizing the tags, titles, and description"
      ]
    },
    {
      "cell_type": "code",
      "metadata": {
        "id": "0AU7stQqcsHK"
      },
      "source": [
        "import re\n",
        "import string\n",
        "\n",
        "def normalize_text(text):\n",
        "    i = 0\n",
        "    try:\n",
        "        for index in text:\n",
        "            if text[i] == \"nan\":\n",
        "                text[i] = \"\"\n",
        "            else:\n",
        "                text[i] = text[i].replace(\"\\\\n\", \" \")\n",
        "                text[i] = text[i].lower()\n",
        "                text[i] = re.sub(r'\\d+', '', text[i])\n",
        "                text[i] = text[i].replace(\"|\", \" \")\n",
        "                text[i] = re.sub(r'[^\\w\\s]','', text[i])\n",
        "                text[i] = re.sub(r\"(https)(\\w+)\\b\", '', text[i])\n",
        "                text[i] = re.sub(r\"(http)(\\w+)\\b\", '', text[i])\n",
        "                text[i] = re.sub(r\"(www.)(\\w+)\\b\", '', text[i])\n",
        "            i+=1\n",
        "    except Exception as error:\n",
        "        # verbosely print record that caused the exception\n",
        "        print(\"An unexpected exception occured while parsing the following record:\")\n",
        "        print(text[i+1])\n",
        "        raise error\n",
        "    \n",
        "    print(text[1], \"\\n\")\n",
        "    return text"
      ],
      "execution_count": null,
      "outputs": []
    },
    {
      "cell_type": "markdown",
      "metadata": {
        "id": "qwopp2QAcsHN"
      },
      "source": [
        "Normalize the text data by calling the function normalize_text as defined above"
      ]
    },
    {
      "cell_type": "code",
      "metadata": {
        "id": "0r3_hiK0csHO",
        "outputId": "d536fd2a-1357-4f84-bea1-d965d678b798"
      },
      "source": [
        "#Normalize the tags\n",
        "print(\"tags: \")\n",
        "tags = normalize_text(data['tags'].values)\n",
        "\n",
        "#Normalize the titles\n",
        "print(\"title: \")\n",
        "title = normalize_text(data['title'].values)\n",
        "\n",
        "#Normalize the description\n",
        "print(\"description: \")\n",
        "description = normalize_text(data['description'].values)"
      ],
      "execution_count": null,
      "outputs": [
        {
          "output_type": "stream",
          "text": [
            "tags: \n",
            "last week tonight trump presidency last week tonight donald trump john oliver trump donald trump \n",
            "\n",
            "title: \n",
            "the trump presidency last week tonight with john oliver hbo \n",
            "\n",
            "description: \n",
            "one year after the presidential election john oliver discusses what weve learned so far and enlists our catheter cowboy to teach donald trump what he hasnt  connect with last week tonight online  subscribe to the last week tonight youtube channel for more almost news as it almost happens   find last week tonight on facebook like your mom would   follow us on twitter for news about jokes and jokes about news   visit our official site for all that other stuff at once  \n",
            "\n"
          ],
          "name": "stdout"
        }
      ]
    },
    {
      "cell_type": "markdown",
      "metadata": {
        "id": "qMwi8_D_csHS"
      },
      "source": [
        "## Taking encoded word data and combining them into a set"
      ]
    },
    {
      "cell_type": "code",
      "metadata": {
        "id": "bf8Nhp3qcsHT",
        "outputId": "974f2350-cbb1-4ad5-b32f-7e4e87b046ea"
      },
      "source": [
        "text = {'description': description, 'title': title, 'tags': tags}\n",
        "print(\"text['description']: \", text['description'])"
      ],
      "execution_count": null,
      "outputs": [
        {
          "output_type": "stream",
          "text": [
            "text['description']:  ['shantells channel   candice    filmed this video in k on this   with this lens   big drone   other gear    sony camera  old camera  main lens  big sony camera  big canon camera  bendy tripod thing  you need this for the bendy tripod  wide lens  more expensive wide lens  small camera  microphone  other microphone  old drone cheaper but still great  follow me on  on  on   amazing intro song by   ad disclosure  this is not an ad  not selling or promoting anything  but samsung did produce the shantell video as a galaxy project which is an initiative that enables creators like shantell and me to make projects we might otherwise not have the opportunity to make  hope thats clear  if not ask in the comments and ill answer any specifics'\n",
            " 'one year after the presidential election john oliver discusses what weve learned so far and enlists our catheter cowboy to teach donald trump what he hasnt  connect with last week tonight online  subscribe to the last week tonight youtube channel for more almost news as it almost happens   find last week tonight on facebook like your mom would   follow us on twitter for news about jokes and jokes about news   visit our official site for all that other stuff at once '\n",
            " 'watch my previous video    subscribe    thanks for watching like  subscribe for more videos  find me on  instagram    twitter    facebook     cast  rudy mancuso    lele pons    king bach     video effects  caleb natale     pa paulina gregory   shots studios channels alesso    anitta    anwar jibawi    awkward puppets    hannah stocking    inanna sarkis    lele pons    maejor    mike tyson     rudy mancuso    shots studios     rudy rudymancuso'\n",
            " ...\n",
            " 'i had so much fun transforming safiyas hair in this video she was serving major lewkssafiyas video my limited edition hoodie  lets be bffsinstagram       see more of my face   see my last video   equipment umbrella lights  light   lens   paper an intro like mine contact forget to live your extra life '\n",
            " 'how black panther should have endedwatch more hishes  to hishe  thehishedotcom hishegram swag thanks to guest voices azerzz  andrew louie  episodesavengers infinity war and beyond toy story mashup it should have ended pub  the dead pool justice league should have ended star wars the last jedi should have ended thor ragnarok should have ended spiderman homecoming should have ended v superman  comedy recap the incredibles should have ended pub  penny for your fears runner  comedy recap one lego hishe  chirrut vs everything wonder woman should have ended guardians of the galaxy vol should have ended jurassic world should have ended spoils movies kong skull island should have ended rogue one should have ended moana should have ended the lego batman movie should have ended doctor strange should have ended beauty and the beast should have ended star wars should have ended special edition hishe reviews pub  the boss battle harry potter in  seconds squad hishe guardians of the galaxy vol should have ended trek beyond hishe cafe batman go war hishe pub  the new smile batman v superman should have ended out of the shadows hishe deadpool should have ended swap  gladiator starring iron man xmen days of future past should have ended wars  revenge of the sith hishe book hishe blood  a batman v superman and bad blood parody ft batman pub  the new smile'\n",
            " 'call of duty black ops  multiplayer raises the bar for the famed multiplayer mode delivering the most thrilling grounded combat experience yet with a focus on tactical gameplay and player choicecall of duty black ops  is available october   preorder at participating retailers on disc or digital download and get private beta access  us for all the latest intel web  facebook  and   and   and  callofduty']\n"
          ],
          "name": "stdout"
        }
      ]
    },
    {
      "cell_type": "code",
      "metadata": {
        "id": "TImZaJDecsHX",
        "outputId": "8bb4e543-f48f-4828-d804-33a151c906ee"
      },
      "source": [
        "description"
      ],
      "execution_count": null,
      "outputs": [
        {
          "output_type": "execute_result",
          "data": {
            "text/plain": [
              "array(['shantells channel   candice    filmed this video in k on this   with this lens   big drone   other gear    sony camera  old camera  main lens  big sony camera  big canon camera  bendy tripod thing  you need this for the bendy tripod  wide lens  more expensive wide lens  small camera  microphone  other microphone  old drone cheaper but still great  follow me on  on  on   amazing intro song by   ad disclosure  this is not an ad  not selling or promoting anything  but samsung did produce the shantell video as a galaxy project which is an initiative that enables creators like shantell and me to make projects we might otherwise not have the opportunity to make  hope thats clear  if not ask in the comments and ill answer any specifics',\n",
              "       'one year after the presidential election john oliver discusses what weve learned so far and enlists our catheter cowboy to teach donald trump what he hasnt  connect with last week tonight online  subscribe to the last week tonight youtube channel for more almost news as it almost happens   find last week tonight on facebook like your mom would   follow us on twitter for news about jokes and jokes about news   visit our official site for all that other stuff at once ',\n",
              "       'watch my previous video    subscribe    thanks for watching like  subscribe for more videos  find me on  instagram    twitter    facebook     cast  rudy mancuso    lele pons    king bach     video effects  caleb natale     pa paulina gregory   shots studios channels alesso    anitta    anwar jibawi    awkward puppets    hannah stocking    inanna sarkis    lele pons    maejor    mike tyson     rudy mancuso    shots studios     rudy rudymancuso',\n",
              "       ...,\n",
              "       'i had so much fun transforming safiyas hair in this video she was serving major lewkssafiyas video my limited edition hoodie  lets be bffsinstagram       see more of my face   see my last video   equipment umbrella lights  light   lens   paper an intro like mine contact forget to live your extra life ',\n",
              "       'how black panther should have endedwatch more hishes  to hishe  thehishedotcom hishegram swag thanks to guest voices azerzz  andrew louie  episodesavengers infinity war and beyond toy story mashup it should have ended pub  the dead pool justice league should have ended star wars the last jedi should have ended thor ragnarok should have ended spiderman homecoming should have ended v superman  comedy recap the incredibles should have ended pub  penny for your fears runner  comedy recap one lego hishe  chirrut vs everything wonder woman should have ended guardians of the galaxy vol should have ended jurassic world should have ended spoils movies kong skull island should have ended rogue one should have ended moana should have ended the lego batman movie should have ended doctor strange should have ended beauty and the beast should have ended star wars should have ended special edition hishe reviews pub  the boss battle harry potter in  seconds squad hishe guardians of the galaxy vol should have ended trek beyond hishe cafe batman go war hishe pub  the new smile batman v superman should have ended out of the shadows hishe deadpool should have ended swap  gladiator starring iron man xmen days of future past should have ended wars  revenge of the sith hishe book hishe blood  a batman v superman and bad blood parody ft batman pub  the new smile',\n",
              "       'call of duty black ops  multiplayer raises the bar for the famed multiplayer mode delivering the most thrilling grounded combat experience yet with a focus on tactical gameplay and player choicecall of duty black ops  is available october   preorder at participating retailers on disc or digital download and get private beta access  us for all the latest intel web  facebook  and   and   and  callofduty'],\n",
              "      dtype=object)"
            ]
          },
          "metadata": {
            "tags": []
          },
          "execution_count": 40
        }
      ]
    },
    {
      "cell_type": "markdown",
      "metadata": {
        "id": "7XJvdGSucsHb"
      },
      "source": [
        "# Using TfidfVectorizer to calculate the Tfidf of the set into the x_data"
      ]
    },
    {
      "cell_type": "markdown",
      "metadata": {
        "id": "G0IjNCWBcsHc"
      },
      "source": [
        "The TF-IDF vectorizer with a higher minimum and a lower max"
      ]
    },
    {
      "cell_type": "code",
      "metadata": {
        "id": "UbxAP_09csHd",
        "outputId": "6a57261e-c4c7-45c3-ed6e-a3af2f447849"
      },
      "source": [
        "import sklearn.feature_extraction.text as sk_text\n",
        "\n",
        "vectorizer = sk_text.TfidfVectorizer(stop_words='english',\n",
        "                             max_features = 50,\n",
        "                             min_df=5, \n",
        "                             #max_df=5\n",
        "                             )\n",
        "\n",
        "#min_df: ignore terms that have a document frequency < min_df.\n",
        "#max_df: ignore terms that have a document frequency > max_df\n",
        "\n",
        "matrix = vectorizer.fit_transform(text['description'], text['tags'])\n",
        "\n",
        "x_data = matrix.toarray()     #  convert it to numpy array\n",
        "\n",
        "print(x_data)\n",
        "print(x_data.shape)\n",
        "print(vectorizer.get_feature_names())\n",
        "print(len(vectorizer.get_feature_names()))\n"
      ],
      "execution_count": null,
      "outputs": [
        {
          "output_type": "stream",
          "text": [
            "[[0.         0.         0.30754216 ... 0.         0.         0.        ]\n",
            " [0.         0.         0.20074925 ... 0.         0.         0.21058858]\n",
            " [0.         0.         0.         ... 0.         0.         0.        ]\n",
            " ...\n",
            " [0.         0.         0.         ... 0.         0.         0.        ]\n",
            " [0.         0.         0.         ... 0.         0.49594483 0.        ]\n",
            " [0.         0.         0.         ... 0.         0.         0.        ]]\n",
            "(40949, 50)\n",
            "['best', 'box', 'channel', 'check', 'click', 'code', 'day', 'dont', 'facebook', 'follow', 'free', 'google', 'im', 'instagram', 'jimmy', 'just', 'know', 'late', 'latest', 'life', 'like', 'live', 'love', 'make', 'music', 'nbc', 'new', 'news', 'night', 'official', 'people', 'play', 'production', 'snapchat', 'social', 'subscribe', 'thanks', 'time', 'tumblr', 'twitter', 'use', 'video', 'videos', 'visit', 'want', 'watch', 'way', 'website', 'world', 'youtube']\n",
            "50\n"
          ],
          "name": "stdout"
        }
      ]
    },
    {
      "cell_type": "markdown",
      "metadata": {
        "id": "Q0bRpZb0csHg"
      },
      "source": [
        "The TF-IDF vectorizer with a lower minimum and a higher max"
      ]
    },
    {
      "cell_type": "code",
      "metadata": {
        "scrolled": true,
        "id": "PHwFEMKocsHh",
        "outputId": "ee564ee6-e707-4084-f277-3f259abd93bb"
      },
      "source": [
        "import sklearn.feature_extraction.text as sk_text\n",
        "\n",
        "vectorizer_with_higher_parameters = sk_text.TfidfVectorizer(stop_words='english',\n",
        "                             max_features = 100,\n",
        "                             min_df=2, \n",
        "                             #max_df=5\n",
        "                             )\n",
        "\n",
        "#min_df: ignore terms that have a document frequency < min_df.\n",
        "#max_df: ignore terms that have a document frequency > max_df\n",
        "\n",
        "matrix_with_higher_parameters = vectorizer_with_higher_parameters.fit_transform(text['description'], text['tags'])\n",
        "\n",
        "x_data_with_higher_parameters = matrix_with_higher_parameters.toarray()     #  convert it to numpy array\n",
        "\n",
        "print(x_data)\n",
        "print(x_data.shape)\n",
        "print(vectorizer_with_higher_parameters.get_feature_names())\n",
        "print(len(vectorizer_with_higher_parameters.get_feature_names()))"
      ],
      "execution_count": null,
      "outputs": [
        {
          "output_type": "stream",
          "text": [
            "[[0.         0.         0.         ... 0.         0.         0.        ]\n",
            " [0.         0.         0.         ... 0.         0.         0.19421028]\n",
            " [0.         0.         0.         ... 0.         0.         0.        ]\n",
            " ...\n",
            " [0.         0.         0.         ... 0.         0.         0.        ]\n",
            " [0.         0.34245201 0.         ... 0.26660799 0.         0.        ]\n",
            " [0.540968   0.         0.         ... 0.         0.         0.        ]]\n",
            "(40949, 100)\n",
            "['available', 'beauty', 'best', 'big', 'box', 'business', 'buy', 'camera', 'cbs', 'channel', 'check', 'click', 'code', 'come', 'connect', 'content', 'day', 'director', 'dont', 'download', 'entertainment', 'episode', 'episodes', 'exclusive', 'facebook', 'favorite', 'film', 'follow', 'food', 'free', 'game', 'google', 'got', 'home', 'im', 'instagram', 'james', 'jimmy', 'join', 'just', 'know', 'late', 'latest', 'life', 'like', 'link', 'links', 'live', 'look', 'love', 'make', 'makeup', 'media', 'merch', 'movie', 'music', 'nbc', 'need', 'new', 'news', 'night', 'official', 'online', 'original', 'patreon', 'people', 'play', 'producer', 'production', 'products', 'series', 'snapchat', 'social', 'song', 'spotify', 'star', 'stream', 'subscribe', 'support', 'thank', 'thanks', 'things', 'think', 'time', 'today', 'try', 'tumblr', 'twitter', 'use', 'video', 'videos', 'visit', 'voice', 'want', 'watch', 'way', 'website', 'world', 'youre', 'youtube']\n",
            "100\n"
          ],
          "name": "stdout"
        }
      ]
    },
    {
      "cell_type": "markdown",
      "metadata": {
        "id": "lz8bFSH4csHk"
      },
      "source": [
        "##Visualizing the top 50 words and it's frequency"
      ]
    },
    {
      "cell_type": "code",
      "metadata": {
        "id": "ybA2MD5gcsHl",
        "outputId": "b9f5cce5-7ea0-48b7-c5e3-e0f6043d7b27"
      },
      "source": [
        "from yellowbrick.text import FreqDistVisualizer\n",
        "from yellowbrick.datasets import load_hobbies\n",
        "\n",
        "feature_names = vectorizer.get_feature_names()\n",
        "visualizer = FreqDistVisualizer(features=feature_names, orient='v')\n",
        "visualizer.fit(matrix)\n",
        "visualizer.show()\n",
        "\n",
        "feature_names = vectorizer_with_higher_parameters.get_feature_names()\n",
        "visualizer = FreqDistVisualizer(features=feature_names, orient='v')\n",
        "visualizer.fit(matrix_with_higher_parameters)\n",
        "visualizer.show()"
      ],
      "execution_count": null,
      "outputs": [
        {
          "output_type": "display_data",
          "data": {
            "image/png": "[encoded data removed]",
            "text/plain": [
              "<Figure size 576x396 with 1 Axes>"
            ]
          },
          "metadata": {
            "tags": []
          }
        },
        {
          "output_type": "display_data",
          "data": {
            "image/png": "[encoded data removed]",
            "text/plain": [
              "<Figure size 576x396 with 1 Axes>"
            ]
          },
          "metadata": {
            "tags": []
          }
        },
        {
          "output_type": "execute_result",
          "data": {
            "text/plain": [
              "<matplotlib.axes._subplots.AxesSubplot at 0x1c57671a20>"
            ]
          },
          "metadata": {
            "tags": []
          },
          "execution_count": 86
        }
      ]
    },
    {
      "cell_type": "markdown",
      "metadata": {
        "id": "yqlgwRsVcsHn"
      },
      "source": [
        "## Splitting the data\n"
      ]
    },
    {
      "cell_type": "markdown",
      "metadata": {
        "id": "xQCAHrvncsHo"
      },
      "source": [
        "Splitting the x data with the lower max parameters "
      ]
    },
    {
      "cell_type": "code",
      "metadata": {
        "scrolled": true,
        "id": "bK0lbcJIcsHo"
      },
      "source": [
        "from sklearn.model_selection import train_test_split\n",
        "\n",
        "x_train, x_test, y_train, y_test = train_test_split(x_data, y_data, train_size=0.25, random_state=42)\n"
      ],
      "execution_count": null,
      "outputs": []
    },
    {
      "cell_type": "markdown",
      "metadata": {
        "id": "Qd0PjBlWcsHq"
      },
      "source": [
        "Splitting the x data with the higher max parameters "
      ]
    },
    {
      "cell_type": "code",
      "metadata": {
        "scrolled": true,
        "id": "vXUGMFUucsHr"
      },
      "source": [
        "from sklearn.model_selection import train_test_split\n",
        "\n",
        "x_train_with_higher_parameters, x_test_with_higher_parameters, y_train, y_test = train_test_split(x_data_with_higher_parameters, y_data, train_size=0.25, random_state=42)\n"
      ],
      "execution_count": null,
      "outputs": []
    },
    {
      "cell_type": "markdown",
      "metadata": {
        "id": "BAXWepm3csHt"
      },
      "source": [
        "# Fully-Connected_NN"
      ]
    },
    {
      "cell_type": "markdown",
      "metadata": {
        "id": "ltaElrUCcsHt"
      },
      "source": [
        "## Adding layers to the Fully-Connected Neural Network"
      ]
    },
    {
      "cell_type": "code",
      "metadata": {
        "id": "j5weNTs9csHu"
      },
      "source": [
        "import os\n",
        "\n",
        "from sklearn.model_selection import train_test_split\n",
        "\n",
        "from sklearn import metrics\n",
        "\n",
        "from tensorflow.keras.models import Sequential\n",
        "from tensorflow.keras.layers import Dense, Activation\n",
        "from tensorflow.keras.callbacks import EarlyStopping\n",
        "from tensorflow.keras.callbacks import ModelCheckpoint\n",
        "\n",
        "model = Sequential()\n",
        "\n",
        "model.add(Dense(100, input_dim=x_train.shape[1], activation='relu'))\n",
        "model.add(Dense(50,activation='relu'))\n",
        "model.add(Dense(20,activation='relu'))\n",
        "model.add(Dense(y_train.shape[1],activation='softmax'))\n",
        "\n",
        "model.compile(loss='categorical_crossentropy', optimizer='adam', metrics = ['accuracy'])\n"
      ],
      "execution_count": null,
      "outputs": []
    },
    {
      "cell_type": "code",
      "metadata": {
        "id": "GbygWcHecsHx",
        "outputId": "10ed093b-2db8-48fa-c72d-6d2528431642"
      },
      "source": [
        "model.summary()"
      ],
      "execution_count": null,
      "outputs": [
        {
          "output_type": "stream",
          "text": [
            "Model: \"sequential_4\"\n",
            "_________________________________________________________________\n",
            "Layer (type)                 Output Shape              Param #   \n",
            "=================================================================\n",
            "dense_13 (Dense)             (None, 100)               5100      \n",
            "_________________________________________________________________\n",
            "dense_14 (Dense)             (None, 50)                5050      \n",
            "_________________________________________________________________\n",
            "dense_15 (Dense)             (None, 20)                1020      \n",
            "_________________________________________________________________\n",
            "dense_16 (Dense)             (None, 15)                315       \n",
            "=================================================================\n",
            "Total params: 11,485\n",
            "Trainable params: 11,485\n",
            "Non-trainable params: 0\n",
            "_________________________________________________________________\n"
          ],
          "name": "stdout"
        }
      ]
    },
    {
      "cell_type": "markdown",
      "metadata": {
        "id": "Q10bL23ScsH0"
      },
      "source": [
        "##Apply earlystopping"
      ]
    },
    {
      "cell_type": "code",
      "metadata": {
        "id": "P-0qfl9kcsH0",
        "outputId": "e3cf041f-9d5a-4e94-afe3-c9f720bf3995"
      },
      "source": [
        "start_time = time.time()\n",
        "\n",
        "monitor = EarlyStopping(monitor='val_loss', min_delta=1e-3, patience=2, verbose=2, mode='auto')  \n",
        "\n",
        "checkpointer = ModelCheckpoint(filepath=\"best_weights.hdf5\", verbose=0, save_best_only=True) # save best model\n",
        "\n",
        "model.fit(x_train, y_train,validation_data=(x_test,y_test),callbacks=[monitor,checkpointer],verbose=2,epochs=100)\n",
        "\n",
        "# metrics\n",
        "print(f\"Model finshed performing in {time.time() - start_time:.6f} seconds\")"
      ],
      "execution_count": null,
      "outputs": [
        {
          "output_type": "stream",
          "text": [
            "Train on 10237 samples, validate on 30712 samples\n",
            "Epoch 1/100\n",
            "10237/10237 - 4s - loss: 2.1469 - acc: 0.3083 - val_loss: 1.8972 - val_acc: 0.3907\n",
            "Epoch 2/100\n",
            "10237/10237 - 3s - loss: 1.7858 - acc: 0.4243 - val_loss: 1.7366 - val_acc: 0.4411\n",
            "Epoch 3/100\n",
            "10237/10237 - 3s - loss: 1.6503 - acc: 0.4706 - val_loss: 1.6217 - val_acc: 0.4776\n",
            "Epoch 4/100\n",
            "10237/10237 - 3s - loss: 1.5421 - acc: 0.5064 - val_loss: 1.5369 - val_acc: 0.4980\n",
            "Epoch 5/100\n",
            "10237/10237 - 3s - loss: 1.4345 - acc: 0.5417 - val_loss: 1.4425 - val_acc: 0.5472\n",
            "Epoch 6/100\n",
            "10237/10237 - 2s - loss: 1.3349 - acc: 0.5742 - val_loss: 1.3658 - val_acc: 0.5709\n",
            "Epoch 7/100\n",
            "10237/10237 - 3s - loss: 1.2558 - acc: 0.6038 - val_loss: 1.3039 - val_acc: 0.6015\n",
            "Epoch 8/100\n",
            "10237/10237 - 3s - loss: 1.1843 - acc: 0.6250 - val_loss: 1.2700 - val_acc: 0.6054\n",
            "Epoch 9/100\n",
            "10237/10237 - 3s - loss: 1.1252 - acc: 0.6504 - val_loss: 1.2200 - val_acc: 0.6315\n",
            "Epoch 10/100\n",
            "10237/10237 - 2s - loss: 1.0726 - acc: 0.6660 - val_loss: 1.1910 - val_acc: 0.6394\n",
            "Epoch 11/100\n",
            "10237/10237 - 2s - loss: 1.0211 - acc: 0.6838 - val_loss: 1.1525 - val_acc: 0.6463\n",
            "Epoch 12/100\n",
            "10237/10237 - 2s - loss: 0.9825 - acc: 0.6967 - val_loss: 1.1300 - val_acc: 0.6584\n",
            "Epoch 13/100\n",
            "10237/10237 - 3s - loss: 0.9443 - acc: 0.7056 - val_loss: 1.0995 - val_acc: 0.6627\n",
            "Epoch 14/100\n",
            "10237/10237 - 3s - loss: 0.9106 - acc: 0.7155 - val_loss: 1.0811 - val_acc: 0.6699\n",
            "Epoch 15/100\n",
            "10237/10237 - 3s - loss: 0.8780 - acc: 0.7253 - val_loss: 1.0489 - val_acc: 0.6856\n",
            "Epoch 16/100\n",
            "10237/10237 - 3s - loss: 0.8537 - acc: 0.7307 - val_loss: 1.0817 - val_acc: 0.6724\n",
            "Epoch 17/100\n",
            "10237/10237 - 3s - loss: 0.8249 - acc: 0.7403 - val_loss: 1.0374 - val_acc: 0.6898\n",
            "Epoch 18/100\n",
            "10237/10237 - 3s - loss: 0.8091 - acc: 0.7442 - val_loss: 1.0102 - val_acc: 0.7014\n",
            "Epoch 19/100\n",
            "10237/10237 - 3s - loss: 0.7917 - acc: 0.7506 - val_loss: 1.0502 - val_acc: 0.6875\n",
            "Epoch 20/100\n",
            "10237/10237 - 3s - loss: 0.7731 - acc: 0.7573 - val_loss: 1.0266 - val_acc: 0.6944\n",
            "Epoch 00020: early stopping\n",
            "Model finshed performing in 54.522675 seconds\n"
          ],
          "name": "stdout"
        }
      ]
    },
    {
      "cell_type": "markdown",
      "metadata": {
        "id": "HUj7Dc1NcsH2"
      },
      "source": [
        "Calculate the model score"
      ]
    },
    {
      "cell_type": "code",
      "metadata": {
        "id": "zuotAQkxcsH3",
        "outputId": "c0848202-bbe9-4715-f6d1-a85fdc97eab8"
      },
      "source": [
        "score = model.evaluate(x_test, y_test, verbose=0)\n",
        "score"
      ],
      "execution_count": null,
      "outputs": [
        {
          "output_type": "execute_result",
          "data": {
            "text/plain": [
              "[1.0265911234701384, 0.69441915]"
            ]
          },
          "metadata": {
            "tags": []
          },
          "execution_count": 103
        }
      ]
    },
    {
      "cell_type": "markdown",
      "metadata": {
        "id": "8tQvfUX3csH5"
      },
      "source": [
        "Calculate loss and accuracy"
      ]
    },
    {
      "cell_type": "code",
      "metadata": {
        "id": "Z33I2gGUcsH6",
        "outputId": "dc502586-f749-4480-eb92-e7844b78a40e"
      },
      "source": [
        "print('Test loss: {}'.format(score[0]))\n",
        "print('Test accuracy: {}'.format(score[1]))"
      ],
      "execution_count": null,
      "outputs": [
        {
          "output_type": "stream",
          "text": [
            "Test loss: 1.0265911234701384\n",
            "Test accuracy: 0.6944191455841064\n"
          ],
          "name": "stdout"
        }
      ]
    },
    {
      "cell_type": "markdown",
      "metadata": {
        "id": "LyvTfKMHcsH8"
      },
      "source": [
        "##confusion matrix\n",
        "\n"
      ]
    },
    {
      "cell_type": "code",
      "metadata": {
        "id": "M3vdt2necsH8",
        "outputId": "1b79ee74-03c7-4043-f16e-6761fd6766d3"
      },
      "source": [
        "from sklearn import metrics\n",
        "\n",
        "y_true = np.argmax(y_test.to_numpy(),axis=1)\n",
        "pred = model.predict(x_test)\n",
        "#pred = np.argmax(pred,axis=1)\n",
        "pred = np.argmax(pred,axis=1)\n",
        "\n",
        "score = metrics.accuracy_score(y_true, pred)\n",
        "print('Accuracy: {}'.format(score))\n",
        "\n",
        "\n",
        "f1 = metrics.f1_score(y_true, pred, average='weighted')\n",
        "print('Averaged F1: {}'.format(f1))\n",
        "\n",
        "           \n",
        "print(metrics.classification_report(y_true, pred, digits = 4))\n",
        "\n",
        "from sklearn.metrics import confusion_matrix\n",
        "import numpy as np\n",
        "# Plot a confusion matrix.\n",
        "# cm is the confusion matrix, names are the names of the classes.\n",
        "def plot_confusion_matrix(cm, names, title='Confusion matrix', cmap=plt.cm.Blues):\n",
        "    plt.imshow(cm, interpolation='nearest', cmap=cmap)\n",
        "    plt.title(title)\n",
        "    plt.colorbar()\n",
        "    tick_marks = np.arange(len(names))\n",
        "    plt.xticks(tick_marks, names, rotation=45)\n",
        "    plt.yticks(tick_marks, names)\n",
        "    plt.tight_layout()\n",
        "    plt.ylabel('True label')\n",
        "    plt.xlabel('Predicted label')\n",
        "    \n",
        "cm = confusion_matrix(y_true, pred)\n",
        "plt.figure()\n",
        "plot_confusion_matrix(cm, y_data.columns)\n",
        "plt.show()"
      ],
      "execution_count": null,
      "outputs": [
        {
          "output_type": "stream",
          "text": [
            "Accuracy: 0.694419119562386\n",
            "Averaged F1: 0.6983615247187228\n",
            "              precision    recall  f1-score   support\n",
            "\n",
            "           0     0.7018    0.7488    0.7245      2866\n",
            "           1     0.7059    0.7217    0.7137      1247\n",
            "           2     0.7995    0.6651    0.7261      7467\n",
            "           3     0.5657    0.7493    0.6447      1759\n",
            "           4     0.6244    0.6062    0.6151       617\n",
            "           5     0.7948    0.7758    0.7852      3086\n",
            "           6     0.7682    0.8211    0.7938      4880\n",
            "           7     0.3780    0.7908    0.5115      1831\n",
            "           8     0.0000    0.0000    0.0000        46\n",
            "           9     0.6364    0.4903    0.5538      2413\n",
            "          10     0.8301    0.5044    0.6275       688\n",
            "          11     0.7107    0.5302    0.6074      1835\n",
            "          12     0.4471    1.0000    0.6179        38\n",
            "          13     0.8670    0.6697    0.7557      1635\n",
            "          14     0.7419    0.4539    0.5633       304\n",
            "\n",
            "    accuracy                         0.6944     30712\n",
            "   macro avg     0.6381    0.6352    0.6160     30712\n",
            "weighted avg     0.7231    0.6944    0.6984     30712\n",
            "\n"
          ],
          "name": "stdout"
        },
        {
          "output_type": "stream",
          "text": [
            "/Users/kyle/anaconda3/lib/python3.7/site-packages/sklearn/metrics/classification.py:1437: UndefinedMetricWarning: F-score is ill-defined and being set to 0.0 in labels with no predicted samples.\n",
            "  'precision', 'predicted', average, warn_for)\n",
            "/Users/kyle/anaconda3/lib/python3.7/site-packages/sklearn/metrics/classification.py:1437: UndefinedMetricWarning: Precision and F-score are ill-defined and being set to 0.0 in labels with no predicted samples.\n",
            "  'precision', 'predicted', average, warn_for)\n"
          ],
          "name": "stderr"
        },
        {
          "output_type": "display_data",
          "data": {
            "image/png": "[encoded data removed]",
            "text/plain": [
              "<Figure size 576x396 with 2 Axes>"
            ]
          },
          "metadata": {
            "tags": []
          }
        }
      ]
    },
    {
      "cell_type": "markdown",
      "metadata": {
        "id": "0LZa5NducsH_"
      },
      "source": [
        "# Try CNN"
      ]
    },
    {
      "cell_type": "markdown",
      "metadata": {
        "id": "Q4nt26fVcsH_"
      },
      "source": [
        "Expanding the test and train dimensions to fit the CNN"
      ]
    },
    {
      "cell_type": "code",
      "metadata": {
        "id": "TEWMFcwXcsIA"
      },
      "source": [
        "x_data.shape\n",
        "x_test = np.expand_dims(x_test, axis=2)\n",
        "x_train = np.expand_dims(x_train, axis=2)"
      ],
      "execution_count": null,
      "outputs": []
    },
    {
      "cell_type": "code",
      "metadata": {
        "id": "7XGemrXkcsIB",
        "outputId": "3c9651cf-b4d7-4c6f-83ab-8b2847f98b00"
      },
      "source": [
        "print(x_train.shape)\n",
        "print(y_train.shape)"
      ],
      "execution_count": null,
      "outputs": [
        {
          "output_type": "stream",
          "text": [
            "(10237, 50, 1)\n",
            "(10237, 15)\n"
          ],
          "name": "stdout"
        }
      ]
    },
    {
      "cell_type": "markdown",
      "metadata": {
        "id": "WTUA5huPcsID"
      },
      "source": [
        "## Adding layers to the Convolution Neural Network"
      ]
    },
    {
      "cell_type": "code",
      "metadata": {
        "id": "xoBzW-ePcsIE"
      },
      "source": [
        "from tensorflow.keras.models import Sequential\n",
        "from tensorflow.keras.layers import Dense, Dropout, Flatten\n",
        "from tensorflow.keras.layers import Conv1D, MaxPooling1D\n",
        "batch_size = 50\n",
        "cnn = Sequential()\n",
        "cnn.add(Conv1D(256, kernel_size=2, strides=2, activation='relu', input_shape=(50, 1)))\n",
        "\n",
        "cnn.add(Conv1D(128, kernel_size=(2), strides=(2), activation='relu'))\n",
        "cnn.add(MaxPooling1D(pool_size=(2)))\n",
        "cnn.add(Dropout(0.5))\n",
        "\n",
        "cnn.add(Flatten())\n",
        "cnn.add(Dense(64, activation=\"relu\"))\n",
        "cnn.add(Dropout(0.5))\n",
        "\n",
        "cnn.add(Flatten())\n",
        "cnn.add(Dense(32, activation=\"relu\"))\n",
        "cnn.add(Dropout(0.5))\n",
        "\n",
        "cnn.add(Dense(15, activation=\"softmax\"))\n"
      ],
      "execution_count": null,
      "outputs": []
    },
    {
      "cell_type": "code",
      "metadata": {
        "id": "rkoyMTnscsIG",
        "outputId": "33db1ead-789c-4c42-b7f1-2898113e109f"
      },
      "source": [
        "cnn.summary()\n",
        "\n",
        "# set the training size and testing size to limit the amount of time needed to execute\n",
        "training_size = 5000\n",
        "testing_size = 1000"
      ],
      "execution_count": null,
      "outputs": [
        {
          "output_type": "stream",
          "text": [
            "Model: \"sequential_8\"\n",
            "_________________________________________________________________\n",
            "Layer (type)                 Output Shape              Param #   \n",
            "=================================================================\n",
            "conv1d_6 (Conv1D)            (None, 25, 256)           768       \n",
            "_________________________________________________________________\n",
            "conv1d_7 (Conv1D)            (None, 12, 128)           65664     \n",
            "_________________________________________________________________\n",
            "max_pooling1d_3 (MaxPooling1 (None, 6, 128)            0         \n",
            "_________________________________________________________________\n",
            "dropout_9 (Dropout)          (None, 6, 128)            0         \n",
            "_________________________________________________________________\n",
            "flatten_6 (Flatten)          (None, 768)               0         \n",
            "_________________________________________________________________\n",
            "dense_25 (Dense)             (None, 64)                49216     \n",
            "_________________________________________________________________\n",
            "dropout_10 (Dropout)         (None, 64)                0         \n",
            "_________________________________________________________________\n",
            "flatten_7 (Flatten)          (None, 64)                0         \n",
            "_________________________________________________________________\n",
            "dense_26 (Dense)             (None, 32)                2080      \n",
            "_________________________________________________________________\n",
            "dropout_11 (Dropout)         (None, 32)                0         \n",
            "_________________________________________________________________\n",
            "dense_27 (Dense)             (None, 15)                495       \n",
            "=================================================================\n",
            "Total params: 118,223\n",
            "Trainable params: 118,223\n",
            "Non-trainable params: 0\n",
            "_________________________________________________________________\n"
          ],
          "name": "stdout"
        }
      ]
    },
    {
      "cell_type": "markdown",
      "metadata": {
        "id": "uMAfEw7kcsII"
      },
      "source": [
        "## Train the data on the CNN model with early stopping"
      ]
    },
    {
      "cell_type": "code",
      "metadata": {
        "id": "JHYYD3p5csII",
        "outputId": "dd4eedb7-c949-4384-b4b2-cfeec16a1103"
      },
      "source": [
        "from tensorflow.keras.callbacks import EarlyStopping\n",
        "\n",
        "start_time = time.time()\n",
        "#x_train = np.expand_dims(x_train, axis=2)\n",
        "# define optimizer and objective, compile cnn\n",
        "\n",
        "cnn.compile(loss=\"categorical_crossentropy\", optimizer=\"adam\", metrics = ['accuracy'])\n",
        "monitor = EarlyStopping(monitor='val_loss', min_delta=1e-3, patience=2, verbose=2, mode='auto') \n",
        "#cnn.summary()\n",
        "#cnn.fit(x_train[0:1000], y_train[0:1000],validation_data=(x_test[0:100],y_test[0:100]),callbacks=[monitor],verbose=2,epochs=1000)\n",
        "cnn.fit(x_train, y_train,     \n",
        "          epochs=10,\n",
        "          verbose=2,\n",
        "          validation_data=(x_test,y_test),\n",
        "          callbacks=[monitor])\n",
        "\n",
        "elapsed_time = time.time() - start_time\n",
        "\n",
        "print(\"Elapsed time: {}\".format(hms_string(elapsed_time)))\n",
        "\n",
        "\n",
        "\n",
        "\n"
      ],
      "execution_count": null,
      "outputs": [
        {
          "output_type": "stream",
          "text": [
            "Train on 10237 samples, validate on 30712 samples\n",
            "Epoch 1/10\n",
            "10237/10237 - 19s - loss: 2.3749 - acc: 0.2366 - val_loss: 2.1316 - val_acc: 0.3123\n",
            "Epoch 2/10\n",
            "10237/10237 - 17s - loss: 2.1777 - acc: 0.3011 - val_loss: 2.0216 - val_acc: 0.3343\n",
            "Epoch 3/10\n",
            "10237/10237 - 18s - loss: 2.1073 - acc: 0.3194 - val_loss: 1.9810 - val_acc: 0.3588\n",
            "Epoch 4/10\n",
            "10237/10237 - 18s - loss: 2.0753 - acc: 0.3242 - val_loss: 1.9613 - val_acc: 0.3624\n",
            "Epoch 5/10\n",
            "10237/10237 - 17s - loss: 2.0491 - acc: 0.3326 - val_loss: 1.9118 - val_acc: 0.3805\n",
            "Epoch 6/10\n",
            "10237/10237 - 17s - loss: 2.0123 - acc: 0.3414 - val_loss: 1.8827 - val_acc: 0.3854\n",
            "Epoch 7/10\n",
            "10237/10237 - 17s - loss: 2.0040 - acc: 0.3495 - val_loss: 1.8757 - val_acc: 0.3890\n",
            "Epoch 8/10\n",
            "10237/10237 - 17s - loss: 1.9883 - acc: 0.3515 - val_loss: 1.8588 - val_acc: 0.3979\n",
            "Epoch 9/10\n",
            "10237/10237 - 17s - loss: 1.9633 - acc: 0.3550 - val_loss: 1.8280 - val_acc: 0.4092\n",
            "Epoch 10/10\n",
            "10237/10237 - 17s - loss: 1.9562 - acc: 0.3600 - val_loss: 1.7956 - val_acc: 0.4218\n",
            "Elapsed time: 0:02:58.07\n"
          ],
          "name": "stdout"
        }
      ]
    },
    {
      "cell_type": "markdown",
      "metadata": {
        "id": "IsKRXs8PcsIK"
      },
      "source": [
        "Calculate Score"
      ]
    },
    {
      "cell_type": "code",
      "metadata": {
        "id": "xW2sT_WTcsIK",
        "outputId": "69b6af78-edb7-4e51-9be7-d17c80009d30"
      },
      "source": [
        "# evaluate() computes the loss and accuracy\n",
        "score = cnn.evaluate(x_test, y_test, verbose=0)\n",
        "score"
      ],
      "execution_count": null,
      "outputs": [
        {
          "output_type": "execute_result",
          "data": {
            "text/plain": [
              "[1.7955940667152652, 0.42175698]"
            ]
          },
          "metadata": {
            "tags": []
          },
          "execution_count": 111
        }
      ]
    },
    {
      "cell_type": "markdown",
      "metadata": {
        "id": "kHXi0k84csIM"
      },
      "source": [
        "Calculate loss and accuracy"
      ]
    },
    {
      "cell_type": "code",
      "metadata": {
        "id": "iKwb0RjucsIM",
        "outputId": "2df5b1b9-120a-4f67-c6a7-4f5a0a85088e"
      },
      "source": [
        "print('Test loss: {}'.format(score[0]))\n",
        "print('Test accuracy: {}'.format(score[1]))"
      ],
      "execution_count": null,
      "outputs": [
        {
          "output_type": "stream",
          "text": [
            "Test loss: 1.7955940667152652\n",
            "Test accuracy: 0.4217569828033447\n"
          ],
          "name": "stdout"
        }
      ]
    },
    {
      "cell_type": "markdown",
      "metadata": {
        "id": "v1OOuh5OcsIO"
      },
      "source": [
        "## Display confusion matrix for CNN"
      ]
    },
    {
      "cell_type": "code",
      "metadata": {
        "scrolled": true,
        "id": "KxOoRf1ZcsIO",
        "outputId": "f0d3a765-6087-4b7f-bd02-6dc12ce5aa8f"
      },
      "source": [
        "from sklearn import metrics\n",
        "\n",
        "y_true = np.argmax(y_test.to_numpy(),axis=1)\n",
        "pred = cnn.predict(x_test)\n",
        "#pred = np.argmax(pred,axis=1)\n",
        "pred = np.argmax(pred,axis=1)\n",
        "\n",
        "score = metrics.accuracy_score(y_true, pred)\n",
        "print('Accuracy: {}'.format(score))\n",
        "\n",
        "\n",
        "f1 = metrics.f1_score(y_true, pred, average='weighted')\n",
        "print('Averaged F1: {}'.format(f1))\n",
        "\n",
        "           \n",
        "print(metrics.classification_report(y_true, pred, digits = 4))\n",
        "\n",
        "from sklearn.metrics import confusion_matrix\n",
        "import numpy as np\n",
        "# Plot a confusion matrix.\n",
        "# cm is the confusion matrix, names are the names of the classes.\n",
        "def plot_confusion_matrix(cm, names, title='Confusion matrix', cmap=plt.cm.Blues):\n",
        "    plt.imshow(cm, interpolation='nearest', cmap=cmap)\n",
        "    plt.title(title)\n",
        "    plt.colorbar()\n",
        "    tick_marks = np.arange(len(names))\n",
        "    plt.xticks(tick_marks, names, rotation=45)\n",
        "    plt.yticks(tick_marks, names)\n",
        "    plt.tight_layout()\n",
        "    plt.ylabel('True label')\n",
        "    plt.xlabel('Predicted label')\n",
        "    \n",
        "cm = confusion_matrix(y_true, pred)\n",
        "plt.figure()\n",
        "plot_confusion_matrix(cm, y_data.columns)\n",
        "plt.show()\n",
        "\n",
        "\n"
      ],
      "execution_count": null,
      "outputs": [
        {
          "output_type": "stream",
          "text": [
            "Accuracy: 0.42175696796040635\n",
            "Averaged F1: 0.3514643810208999\n",
            "              precision    recall  f1-score   support\n",
            "\n",
            "           0     0.6183    0.2990    0.4031      2866\n",
            "           1     1.0000    0.0056    0.0112      1247\n",
            "           2     0.3242    0.8076    0.4626      7467\n",
            "           3     0.0000    0.0000    0.0000      1759\n",
            "           4     0.0000    0.0000    0.0000       617\n",
            "           5     0.4040    0.4657    0.4326      3086\n",
            "           6     0.6349    0.7037    0.6675      4880\n",
            "           7     0.6225    0.3621    0.4579      1831\n",
            "           8     0.0000    0.0000    0.0000        46\n",
            "           9     0.0000    0.0000    0.0000      2413\n",
            "          10     0.0000    0.0000    0.0000       688\n",
            "          11     0.0000    0.0000    0.0000      1835\n",
            "          12     0.0000    0.0000    0.0000        38\n",
            "          13     0.7653    0.3211    0.4524      1635\n",
            "          14     0.0000    0.0000    0.0000       304\n",
            "\n",
            "    accuracy                         0.4218     30712\n",
            "   macro avg     0.2913    0.1976    0.1925     30712\n",
            "weighted avg     0.3964    0.4218    0.3515     30712\n",
            "\n"
          ],
          "name": "stdout"
        },
        {
          "output_type": "stream",
          "text": [
            "/Users/kyle/anaconda3/lib/python3.7/site-packages/sklearn/metrics/classification.py:1437: UndefinedMetricWarning: F-score is ill-defined and being set to 0.0 in labels with no predicted samples.\n",
            "  'precision', 'predicted', average, warn_for)\n",
            "/Users/kyle/anaconda3/lib/python3.7/site-packages/sklearn/metrics/classification.py:1437: UndefinedMetricWarning: Precision and F-score are ill-defined and being set to 0.0 in labels with no predicted samples.\n",
            "  'precision', 'predicted', average, warn_for)\n"
          ],
          "name": "stderr"
        },
        {
          "output_type": "display_data",
          "data": {
            "image/png": "[encoded data removed]",
            "text/plain": [
              "<Figure size 576x396 with 2 Axes>"
            ]
          },
          "metadata": {
            "tags": []
          }
        }
      ]
    }
  ]
}