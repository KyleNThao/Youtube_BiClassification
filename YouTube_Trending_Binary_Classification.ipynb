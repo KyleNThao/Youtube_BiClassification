{
  "nbformat": 4,
  "nbformat_minor": 0,
  "metadata": {
    "kernelspec": {
      "display_name": "Python 3",
      "language": "python",
      "name": "python3"
    },
    "language_info": {
      "codemirror_mode": {
        "name": "ipython",
        "version": 3
      },
      "file_extension": ".py",
      "mimetype": "text/x-python",
      "name": "python",
      "nbconvert_exporter": "python",
      "pygments_lexer": "ipython3",
      "version": "3.7.3"
    },
    "colab": {
      "name": "YouTube Trending Binary Classification.ipynb",
      "provenance": [],
      "collapsed_sections": []
    }
  },
  "cells": [
    {
      "cell_type": "code",
      "metadata": {
        "id": "KEPLfn2-csGZ"
      },
      "source": [
        "import collections\n",
        "import pandas as pd\n",
        "import csv\n",
        "from sklearn import preprocessing\n",
        "import matplotlib.pyplot as plt\n",
        "from sklearn.model_selection import train_test_split\n",
        "import numpy as np\n",
        "from scipy.stats import zscore\n",
        "import seaborn as sns\n",
        "import time"
      ],
      "execution_count": 1,
      "outputs": []
    },
    {
      "cell_type": "code",
      "metadata": {
        "id": "4DtbyoOQcsGj"
      },
      "source": [
        "#Formatting string for time.\n",
        "def hms_string(sec_elapsed):\n",
        "    h = int(sec_elapsed / (60 * 60))\n",
        "    m = int((sec_elapsed % (60 * 60)) / 60)\n",
        "    s = sec_elapsed % 60\n",
        "    return \"{}:{:>02}:{:>05.2f}\".format(h, m, s)"
      ],
      "execution_count": 2,
      "outputs": []
    },
    {
      "cell_type": "markdown",
      "metadata": {
        "id": "jxEUvw91csGq"
      },
      "source": [
        "# Read in the data of trended US Youtube videos"
      ]
    },
    {
      "cell_type": "code",
      "metadata": {
        "id": "Ve7YT8HFcsGs"
      },
      "source": [
        "data = pd.read_csv('USvideos.csv')\n",
        "data.columns = [ 'video_id',\n",
        "'trending_date',\n",
        "'title',\n",
        "'channel_title',\n",
        "'category_id',\n",
        "'publish_time',\n",
        "'tags',\n",
        "'views',\n",
        "'likes',\n",
        "'dislikes',\n",
        "'comment_count',\n",
        "'thumbnail_link',\n",
        "'comments_disabled',\n",
        "'ratings_disabled',\n",
        "'video_error_or_removed',\n",
        "'description' ]\n",
        "data.description = data.description.astype(str)"
      ],
      "execution_count": 3,
      "outputs": []
    },
    {
      "cell_type": "code",
      "metadata": {
        "scrolled": true,
        "id": "Y8y59qSdcsGx",
        "colab": {
          "base_uri": "https://localhost:8080/",
          "height": 513
        },
        "outputId": "c3cfb9b7-8bc8-4770-8688-e500f917da52"
      },
      "source": [
        "data.head()"
      ],
      "execution_count": 4,
      "outputs": [
        {
          "output_type": "execute_result",
          "data": {
            "text/html": [
              "<div>\n",
              "<style scoped>\n",
              "    .dataframe tbody tr th:only-of-type {\n",
              "        vertical-align: middle;\n",
              "    }\n",
              "\n",
              "    .dataframe tbody tr th {\n",
              "        vertical-align: top;\n",
              "    }\n",
              "\n",
              "    .dataframe thead th {\n",
              "        text-align: right;\n",
              "    }\n",
              "</style>\n",
              "<table border=\"1\" class=\"dataframe\">\n",
              "  <thead>\n",
              "    <tr style=\"text-align: right;\">\n",
              "      <th></th>\n",
              "      <th>video_id</th>\n",
              "      <th>trending_date</th>\n",
              "      <th>title</th>\n",
              "      <th>channel_title</th>\n",
              "      <th>category_id</th>\n",
              "      <th>publish_time</th>\n",
              "      <th>tags</th>\n",
              "      <th>views</th>\n",
              "      <th>likes</th>\n",
              "      <th>dislikes</th>\n",
              "      <th>comment_count</th>\n",
              "      <th>thumbnail_link</th>\n",
              "      <th>comments_disabled</th>\n",
              "      <th>ratings_disabled</th>\n",
              "      <th>video_error_or_removed</th>\n",
              "      <th>description</th>\n",
              "    </tr>\n",
              "  </thead>\n",
              "  <tbody>\n",
              "    <tr>\n",
              "      <th>0</th>\n",
              "      <td>2kyS6SvSYSE</td>\n",
              "      <td>17.14.11</td>\n",
              "      <td>WE WANT TO TALK ABOUT OUR MARRIAGE</td>\n",
              "      <td>CaseyNeistat</td>\n",
              "      <td>22</td>\n",
              "      <td>2017-11-13T17:13:01.000Z</td>\n",
              "      <td>SHANtell martin</td>\n",
              "      <td>748374</td>\n",
              "      <td>57527</td>\n",
              "      <td>2966</td>\n",
              "      <td>15954</td>\n",
              "      <td>https://i.ytimg.com/vi/2kyS6SvSYSE/default.jpg</td>\n",
              "      <td>False</td>\n",
              "      <td>False</td>\n",
              "      <td>False</td>\n",
              "      <td>SHANTELL'S CHANNEL - https://www.youtube.com/s...</td>\n",
              "    </tr>\n",
              "    <tr>\n",
              "      <th>1</th>\n",
              "      <td>1ZAPwfrtAFY</td>\n",
              "      <td>17.14.11</td>\n",
              "      <td>The Trump Presidency: Last Week Tonight with J...</td>\n",
              "      <td>LastWeekTonight</td>\n",
              "      <td>24</td>\n",
              "      <td>2017-11-13T07:30:00.000Z</td>\n",
              "      <td>last week tonight trump presidency|\"last week ...</td>\n",
              "      <td>2418783</td>\n",
              "      <td>97185</td>\n",
              "      <td>6146</td>\n",
              "      <td>12703</td>\n",
              "      <td>https://i.ytimg.com/vi/1ZAPwfrtAFY/default.jpg</td>\n",
              "      <td>False</td>\n",
              "      <td>False</td>\n",
              "      <td>False</td>\n",
              "      <td>One year after the presidential election, John...</td>\n",
              "    </tr>\n",
              "    <tr>\n",
              "      <th>2</th>\n",
              "      <td>5qpjK5DgCt4</td>\n",
              "      <td>17.14.11</td>\n",
              "      <td>Racist Superman | Rudy Mancuso, King Bach &amp; Le...</td>\n",
              "      <td>Rudy Mancuso</td>\n",
              "      <td>23</td>\n",
              "      <td>2017-11-12T19:05:24.000Z</td>\n",
              "      <td>racist superman|\"rudy\"|\"mancuso\"|\"king\"|\"bach\"...</td>\n",
              "      <td>3191434</td>\n",
              "      <td>146033</td>\n",
              "      <td>5339</td>\n",
              "      <td>8181</td>\n",
              "      <td>https://i.ytimg.com/vi/5qpjK5DgCt4/default.jpg</td>\n",
              "      <td>False</td>\n",
              "      <td>False</td>\n",
              "      <td>False</td>\n",
              "      <td>WATCH MY PREVIOUS VIDEO ▶ \\n\\nSUBSCRIBE ► http...</td>\n",
              "    </tr>\n",
              "    <tr>\n",
              "      <th>3</th>\n",
              "      <td>puqaWrEC7tY</td>\n",
              "      <td>17.14.11</td>\n",
              "      <td>Nickelback Lyrics: Real or Fake?</td>\n",
              "      <td>Good Mythical Morning</td>\n",
              "      <td>24</td>\n",
              "      <td>2017-11-13T11:00:04.000Z</td>\n",
              "      <td>rhett and link|\"gmm\"|\"good mythical morning\"|\"...</td>\n",
              "      <td>343168</td>\n",
              "      <td>10172</td>\n",
              "      <td>666</td>\n",
              "      <td>2146</td>\n",
              "      <td>https://i.ytimg.com/vi/puqaWrEC7tY/default.jpg</td>\n",
              "      <td>False</td>\n",
              "      <td>False</td>\n",
              "      <td>False</td>\n",
              "      <td>Today we find out if Link is a Nickelback amat...</td>\n",
              "    </tr>\n",
              "    <tr>\n",
              "      <th>4</th>\n",
              "      <td>d380meD0W0M</td>\n",
              "      <td>17.14.11</td>\n",
              "      <td>I Dare You: GOING BALD!?</td>\n",
              "      <td>nigahiga</td>\n",
              "      <td>24</td>\n",
              "      <td>2017-11-12T18:01:41.000Z</td>\n",
              "      <td>ryan|\"higa\"|\"higatv\"|\"nigahiga\"|\"i dare you\"|\"...</td>\n",
              "      <td>2095731</td>\n",
              "      <td>132235</td>\n",
              "      <td>1989</td>\n",
              "      <td>17518</td>\n",
              "      <td>https://i.ytimg.com/vi/d380meD0W0M/default.jpg</td>\n",
              "      <td>False</td>\n",
              "      <td>False</td>\n",
              "      <td>False</td>\n",
              "      <td>I know it's been a while since we did this sho...</td>\n",
              "    </tr>\n",
              "  </tbody>\n",
              "</table>\n",
              "</div>"
            ],
            "text/plain": [
              "      video_id  ...                                        description\n",
              "0  2kyS6SvSYSE  ...  SHANTELL'S CHANNEL - https://www.youtube.com/s...\n",
              "1  1ZAPwfrtAFY  ...  One year after the presidential election, John...\n",
              "2  5qpjK5DgCt4  ...  WATCH MY PREVIOUS VIDEO ▶ \\n\\nSUBSCRIBE ► http...\n",
              "3  puqaWrEC7tY  ...  Today we find out if Link is a Nickelback amat...\n",
              "4  d380meD0W0M  ...  I know it's been a while since we did this sho...\n",
              "\n",
              "[5 rows x 16 columns]"
            ]
          },
          "metadata": {},
          "execution_count": 4
        }
      ]
    },
    {
      "cell_type": "code",
      "metadata": {
        "scrolled": false,
        "id": "kBuFu7dNcsG4",
        "colab": {
          "base_uri": "https://localhost:8080/",
          "height": 204
        },
        "outputId": "1b3237f0-04b3-41f7-e74a-9c09271859cd"
      },
      "source": [
        "import json\n",
        "id_to_category = {}\n",
        "\n",
        "type_str_list = ['category_id']\n",
        "for column in type_str_list:\n",
        "    data[column] = data[column].astype(str)\n",
        "    \n",
        "with open('US_category_id.json', 'r') as f:\n",
        "    data2 = json.load(f)\n",
        "    for category in data2['items']:\n",
        "        id_to_category[category['id']] = category['snippet']['title']\n",
        "id_to_category\n",
        "\n",
        "data.insert(4, 'category', data['category_id'].map(id_to_category))\n",
        "data[['category_id', 'category']].head()"
      ],
      "execution_count": 5,
      "outputs": [
        {
          "output_type": "execute_result",
          "data": {
            "text/html": [
              "<div>\n",
              "<style scoped>\n",
              "    .dataframe tbody tr th:only-of-type {\n",
              "        vertical-align: middle;\n",
              "    }\n",
              "\n",
              "    .dataframe tbody tr th {\n",
              "        vertical-align: top;\n",
              "    }\n",
              "\n",
              "    .dataframe thead th {\n",
              "        text-align: right;\n",
              "    }\n",
              "</style>\n",
              "<table border=\"1\" class=\"dataframe\">\n",
              "  <thead>\n",
              "    <tr style=\"text-align: right;\">\n",
              "      <th></th>\n",
              "      <th>category_id</th>\n",
              "      <th>category</th>\n",
              "    </tr>\n",
              "  </thead>\n",
              "  <tbody>\n",
              "    <tr>\n",
              "      <th>0</th>\n",
              "      <td>22</td>\n",
              "      <td>People &amp; Blogs</td>\n",
              "    </tr>\n",
              "    <tr>\n",
              "      <th>1</th>\n",
              "      <td>24</td>\n",
              "      <td>Entertainment</td>\n",
              "    </tr>\n",
              "    <tr>\n",
              "      <th>2</th>\n",
              "      <td>23</td>\n",
              "      <td>Comedy</td>\n",
              "    </tr>\n",
              "    <tr>\n",
              "      <th>3</th>\n",
              "      <td>24</td>\n",
              "      <td>Entertainment</td>\n",
              "    </tr>\n",
              "    <tr>\n",
              "      <th>4</th>\n",
              "      <td>24</td>\n",
              "      <td>Entertainment</td>\n",
              "    </tr>\n",
              "  </tbody>\n",
              "</table>\n",
              "</div>"
            ],
            "text/plain": [
              "  category_id        category\n",
              "0          22  People & Blogs\n",
              "1          24   Entertainment\n",
              "2          23          Comedy\n",
              "3          24   Entertainment\n",
              "4          24   Entertainment"
            ]
          },
          "metadata": {},
          "execution_count": 5
        }
      ]
    },
    {
      "cell_type": "markdown",
      "metadata": {
        "id": "64EhEpgdcsG9"
      },
      "source": [
        "# Encoding data\n",
        "Encoding the categorical classification of each video as the y_data"
      ]
    },
    {
      "cell_type": "code",
      "metadata": {
        "scrolled": true,
        "id": "1oQNSkUFcsG_",
        "colab": {
          "base_uri": "https://localhost:8080/",
          "height": 258
        },
        "outputId": "6c67ac0d-740e-44f6-90d0-e32d4ec3cf28"
      },
      "source": [
        "y_data = data['category']\n",
        "y_data = pd.get_dummies(y_data, columns=['category'], drop_first = True)\n",
        "y_data.head()"
      ],
      "execution_count": 6,
      "outputs": [
        {
          "output_type": "execute_result",
          "data": {
            "text/html": [
              "<div>\n",
              "<style scoped>\n",
              "    .dataframe tbody tr th:only-of-type {\n",
              "        vertical-align: middle;\n",
              "    }\n",
              "\n",
              "    .dataframe tbody tr th {\n",
              "        vertical-align: top;\n",
              "    }\n",
              "\n",
              "    .dataframe thead th {\n",
              "        text-align: right;\n",
              "    }\n",
              "</style>\n",
              "<table border=\"1\" class=\"dataframe\">\n",
              "  <thead>\n",
              "    <tr style=\"text-align: right;\">\n",
              "      <th></th>\n",
              "      <th>Comedy</th>\n",
              "      <th>Education</th>\n",
              "      <th>Entertainment</th>\n",
              "      <th>Film &amp; Animation</th>\n",
              "      <th>Gaming</th>\n",
              "      <th>Howto &amp; Style</th>\n",
              "      <th>Music</th>\n",
              "      <th>News &amp; Politics</th>\n",
              "      <th>Nonprofits &amp; Activism</th>\n",
              "      <th>People &amp; Blogs</th>\n",
              "      <th>Pets &amp; Animals</th>\n",
              "      <th>Science &amp; Technology</th>\n",
              "      <th>Shows</th>\n",
              "      <th>Sports</th>\n",
              "      <th>Travel &amp; Events</th>\n",
              "    </tr>\n",
              "  </thead>\n",
              "  <tbody>\n",
              "    <tr>\n",
              "      <th>0</th>\n",
              "      <td>0</td>\n",
              "      <td>0</td>\n",
              "      <td>0</td>\n",
              "      <td>0</td>\n",
              "      <td>0</td>\n",
              "      <td>0</td>\n",
              "      <td>0</td>\n",
              "      <td>0</td>\n",
              "      <td>0</td>\n",
              "      <td>1</td>\n",
              "      <td>0</td>\n",
              "      <td>0</td>\n",
              "      <td>0</td>\n",
              "      <td>0</td>\n",
              "      <td>0</td>\n",
              "    </tr>\n",
              "    <tr>\n",
              "      <th>1</th>\n",
              "      <td>0</td>\n",
              "      <td>0</td>\n",
              "      <td>1</td>\n",
              "      <td>0</td>\n",
              "      <td>0</td>\n",
              "      <td>0</td>\n",
              "      <td>0</td>\n",
              "      <td>0</td>\n",
              "      <td>0</td>\n",
              "      <td>0</td>\n",
              "      <td>0</td>\n",
              "      <td>0</td>\n",
              "      <td>0</td>\n",
              "      <td>0</td>\n",
              "      <td>0</td>\n",
              "    </tr>\n",
              "    <tr>\n",
              "      <th>2</th>\n",
              "      <td>1</td>\n",
              "      <td>0</td>\n",
              "      <td>0</td>\n",
              "      <td>0</td>\n",
              "      <td>0</td>\n",
              "      <td>0</td>\n",
              "      <td>0</td>\n",
              "      <td>0</td>\n",
              "      <td>0</td>\n",
              "      <td>0</td>\n",
              "      <td>0</td>\n",
              "      <td>0</td>\n",
              "      <td>0</td>\n",
              "      <td>0</td>\n",
              "      <td>0</td>\n",
              "    </tr>\n",
              "    <tr>\n",
              "      <th>3</th>\n",
              "      <td>0</td>\n",
              "      <td>0</td>\n",
              "      <td>1</td>\n",
              "      <td>0</td>\n",
              "      <td>0</td>\n",
              "      <td>0</td>\n",
              "      <td>0</td>\n",
              "      <td>0</td>\n",
              "      <td>0</td>\n",
              "      <td>0</td>\n",
              "      <td>0</td>\n",
              "      <td>0</td>\n",
              "      <td>0</td>\n",
              "      <td>0</td>\n",
              "      <td>0</td>\n",
              "    </tr>\n",
              "    <tr>\n",
              "      <th>4</th>\n",
              "      <td>0</td>\n",
              "      <td>0</td>\n",
              "      <td>1</td>\n",
              "      <td>0</td>\n",
              "      <td>0</td>\n",
              "      <td>0</td>\n",
              "      <td>0</td>\n",
              "      <td>0</td>\n",
              "      <td>0</td>\n",
              "      <td>0</td>\n",
              "      <td>0</td>\n",
              "      <td>0</td>\n",
              "      <td>0</td>\n",
              "      <td>0</td>\n",
              "      <td>0</td>\n",
              "    </tr>\n",
              "  </tbody>\n",
              "</table>\n",
              "</div>"
            ],
            "text/plain": [
              "   Comedy  Education  Entertainment  ...  Shows  Sports  Travel & Events\n",
              "0       0          0              0  ...      0       0                0\n",
              "1       0          0              1  ...      0       0                0\n",
              "2       1          0              0  ...      0       0                0\n",
              "3       0          0              1  ...      0       0                0\n",
              "4       0          0              1  ...      0       0                0\n",
              "\n",
              "[5 rows x 15 columns]"
            ]
          },
          "metadata": {},
          "execution_count": 6
        }
      ]
    },
    {
      "cell_type": "markdown",
      "metadata": {
        "id": "qWnjXF6KcsHE"
      },
      "source": [
        "# Graph visualizing the category distribution of videos in the United States"
      ]
    },
    {
      "cell_type": "code",
      "metadata": {
        "scrolled": true,
        "id": "MfF7hB-3csHF",
        "colab": {
          "base_uri": "https://localhost:8080/",
          "height": 638
        },
        "outputId": "97c83c5f-1192-43cb-d36f-5549e1b386f5"
      },
      "source": [
        "cat_df_gb = data['category'].value_counts().reset_index()\n",
        "plt.figure(figsize=(15,10))\n",
        "sns.set_style(\"whitegrid\")\n",
        "ax = sns.barplot(y=cat_df_gb['index'],x=cat_df_gb['category'], data=cat_df_gb,orient='h')\n",
        "plt.xlabel(\"Number of Videos\")## From United States users : \n",
        "plt.ylabel(\"Categories\")\n",
        "plt.title(\"Categories of trend videos in United States\")"
      ],
      "execution_count": 7,
      "outputs": [
        {
          "output_type": "execute_result",
          "data": {
            "text/plain": [
              "Text(0.5, 1.0, 'Categories of trend videos in United States')"
            ]
          },
          "metadata": {},
          "execution_count": 7
        },
        {
          "output_type": "display_data",
          "data": {
            "image/png": "[encoded data removed]",
            "text/plain": [
              "<Figure size 1080x720 with 1 Axes>"
            ]
          },
          "metadata": {
            "needs_background": "light"
          }
        }
      ]
    },
    {
      "cell_type": "markdown",
      "metadata": {
        "id": "ILPPXG8McsHJ"
      },
      "source": [
        "# Normalizing the tags, titles, and description"
      ]
    },
    {
      "cell_type": "code",
      "metadata": {
        "id": "0AU7stQqcsHK"
      },
      "source": [
        "import re\n",
        "import string\n",
        "\n",
        "def normalize_text(text):\n",
        "    i = 0\n",
        "    try:\n",
        "        for index in text:\n",
        "            if text[i] == \"nan\":\n",
        "                text[i] = \"\"\n",
        "            else:\n",
        "                text[i] = text[i].replace(\"\\\\n\", \" \")\n",
        "                text[i] = text[i].lower()\n",
        "                text[i] = re.sub(r'\\d+', '', text[i])\n",
        "                text[i] = text[i].replace(\"|\", \" \")\n",
        "                text[i] = re.sub(r'[^\\w\\s]','', text[i])\n",
        "                text[i] = re.sub(r\"(https)(\\w+)\\b\", '', text[i])\n",
        "                text[i] = re.sub(r\"(http)(\\w+)\\b\", '', text[i])\n",
        "                text[i] = re.sub(r\"(www.)(\\w+)\\b\", '', text[i])\n",
        "            i+=1\n",
        "    except Exception as error:\n",
        "        # verbosely print record that caused the exception\n",
        "        print(\"An unexpected exception occured while parsing the following record:\")\n",
        "        print(text[i+1])\n",
        "        raise error\n",
        "    \n",
        "    print(text[1], \"\\n\")\n",
        "    return text"
      ],
      "execution_count": 8,
      "outputs": []
    },
    {
      "cell_type": "markdown",
      "metadata": {
        "id": "qwopp2QAcsHN"
      },
      "source": [
        "Normalize the text data by calling the function normalize_text as defined above"
      ]
    },
    {
      "cell_type": "code",
      "metadata": {
        "id": "0r3_hiK0csHO",
        "colab": {
          "base_uri": "https://localhost:8080/"
        },
        "outputId": "77cb657e-3071-41c9-8a6b-5dab3da8de65"
      },
      "source": [
        "#Normalize the tags\n",
        "print(\"tags: \")\n",
        "tags = normalize_text(data['tags'].values)\n",
        "\n",
        "#Normalize the titles\n",
        "print(\"title: \")\n",
        "title = normalize_text(data['title'].values)\n",
        "\n",
        "#Normalize the description\n",
        "print(\"description: \")\n",
        "description = normalize_text(data['description'].values)"
      ],
      "execution_count": 9,
      "outputs": [
        {
          "output_type": "stream",
          "name": "stdout",
          "text": [
            "tags: \n",
            "last week tonight trump presidency last week tonight donald trump john oliver trump donald trump \n",
            "\n",
            "title: \n",
            "the trump presidency last week tonight with john oliver hbo \n",
            "\n",
            "description: \n",
            "one year after the presidential election john oliver discusses what weve learned so far and enlists our catheter cowboy to teach donald trump what he hasnt  connect with last week tonight online  subscribe to the last week tonight youtube channel for more almost news as it almost happens   find last week tonight on facebook like your mom would   follow us on twitter for news about jokes and jokes about news   visit our official site for all that other stuff at once  \n",
            "\n"
          ]
        }
      ]
    },
    {
      "cell_type": "markdown",
      "metadata": {
        "id": "qMwi8_D_csHS"
      },
      "source": [
        "## Taking encoded word data and combining them into a set"
      ]
    },
    {
      "cell_type": "code",
      "metadata": {
        "id": "bf8Nhp3qcsHT",
        "colab": {
          "base_uri": "https://localhost:8080/"
        },
        "outputId": "29e35d60-ec8e-4bd7-f658-3d05dcf376c5"
      },
      "source": [
        "text = {'description': description, 'title': title, 'tags': tags}\n",
        "print(\"text['description']: \", text['description'])"
      ],
      "execution_count": 10,
      "outputs": [
        {
          "output_type": "stream",
          "name": "stdout",
          "text": [
            "text['description']:  ['shantells channel   candice    filmed this video in k on this   with this lens   big drone   other gear    sony camera  old camera  main lens  big sony camera  big canon camera  bendy tripod thing  you need this for the bendy tripod  wide lens  more expensive wide lens  small camera  microphone  other microphone  old drone cheaper but still great  follow me on  on  on   amazing intro song by   ad disclosure  this is not an ad  not selling or promoting anything  but samsung did produce the shantell video as a galaxy project which is an initiative that enables creators like shantell and me to make projects we might otherwise not have the opportunity to make  hope thats clear  if not ask in the comments and ill answer any specifics'\n",
            " 'one year after the presidential election john oliver discusses what weve learned so far and enlists our catheter cowboy to teach donald trump what he hasnt  connect with last week tonight online  subscribe to the last week tonight youtube channel for more almost news as it almost happens   find last week tonight on facebook like your mom would   follow us on twitter for news about jokes and jokes about news   visit our official site for all that other stuff at once '\n",
            " 'watch my previous video    subscribe    thanks for watching like  subscribe for more videos  find me on  instagram    twitter    facebook     cast  rudy mancuso    lele pons    king bach     video effects  caleb natale     pa paulina gregory   shots studios channels alesso    anitta    anwar jibawi    awkward puppets    hannah stocking    inanna sarkis    lele pons    maejor    mike tyson     rudy mancuso    shots studios     rudy rudymancuso'\n",
            " ...\n",
            " 'i had so much fun transforming safiyas hair in this video she was serving major lewkssafiyas video my limited edition hoodie  lets be bffsinstagram       see more of my face   see my last video   equipment umbrella lights  light   lens   paper an intro like mine contact forget to live your extra life '\n",
            " 'how black panther should have endedwatch more hishes  to hishe  thehishedotcom hishegram swag thanks to guest voices azerzz  andrew louie  episodesavengers infinity war and beyond toy story mashup it should have ended pub  the dead pool justice league should have ended star wars the last jedi should have ended thor ragnarok should have ended spiderman homecoming should have ended v superman  comedy recap the incredibles should have ended pub  penny for your fears runner  comedy recap one lego hishe  chirrut vs everything wonder woman should have ended guardians of the galaxy vol should have ended jurassic world should have ended spoils movies kong skull island should have ended rogue one should have ended moana should have ended the lego batman movie should have ended doctor strange should have ended beauty and the beast should have ended star wars should have ended special edition hishe reviews pub  the boss battle harry potter in  seconds squad hishe guardians of the galaxy vol should have ended trek beyond hishe cafe batman go war hishe pub  the new smile batman v superman should have ended out of the shadows hishe deadpool should have ended swap  gladiator starring iron man xmen days of future past should have ended wars  revenge of the sith hishe book hishe blood  a batman v superman and bad blood parody ft batman pub  the new smile'\n",
            " 'call of duty black ops  multiplayer raises the bar for the famed multiplayer mode delivering the most thrilling grounded combat experience yet with a focus on tactical gameplay and player choicecall of duty black ops  is available october   preorder at participating retailers on disc or digital download and get private beta access  us for all the latest intel web  facebook  and   and   and  callofduty']\n"
          ]
        }
      ]
    },
    {
      "cell_type": "code",
      "metadata": {
        "id": "TImZaJDecsHX",
        "colab": {
          "base_uri": "https://localhost:8080/"
        },
        "outputId": "f5fb93bf-1a22-41e3-8292-5667280b885e"
      },
      "source": [
        "description"
      ],
      "execution_count": 11,
      "outputs": [
        {
          "output_type": "execute_result",
          "data": {
            "text/plain": [
              "array(['shantells channel   candice    filmed this video in k on this   with this lens   big drone   other gear    sony camera  old camera  main lens  big sony camera  big canon camera  bendy tripod thing  you need this for the bendy tripod  wide lens  more expensive wide lens  small camera  microphone  other microphone  old drone cheaper but still great  follow me on  on  on   amazing intro song by   ad disclosure  this is not an ad  not selling or promoting anything  but samsung did produce the shantell video as a galaxy project which is an initiative that enables creators like shantell and me to make projects we might otherwise not have the opportunity to make  hope thats clear  if not ask in the comments and ill answer any specifics',\n",
              "       'one year after the presidential election john oliver discusses what weve learned so far and enlists our catheter cowboy to teach donald trump what he hasnt  connect with last week tonight online  subscribe to the last week tonight youtube channel for more almost news as it almost happens   find last week tonight on facebook like your mom would   follow us on twitter for news about jokes and jokes about news   visit our official site for all that other stuff at once ',\n",
              "       'watch my previous video    subscribe    thanks for watching like  subscribe for more videos  find me on  instagram    twitter    facebook     cast  rudy mancuso    lele pons    king bach     video effects  caleb natale     pa paulina gregory   shots studios channels alesso    anitta    anwar jibawi    awkward puppets    hannah stocking    inanna sarkis    lele pons    maejor    mike tyson     rudy mancuso    shots studios     rudy rudymancuso',\n",
              "       ...,\n",
              "       'i had so much fun transforming safiyas hair in this video she was serving major lewkssafiyas video my limited edition hoodie  lets be bffsinstagram       see more of my face   see my last video   equipment umbrella lights  light   lens   paper an intro like mine contact forget to live your extra life ',\n",
              "       'how black panther should have endedwatch more hishes  to hishe  thehishedotcom hishegram swag thanks to guest voices azerzz  andrew louie  episodesavengers infinity war and beyond toy story mashup it should have ended pub  the dead pool justice league should have ended star wars the last jedi should have ended thor ragnarok should have ended spiderman homecoming should have ended v superman  comedy recap the incredibles should have ended pub  penny for your fears runner  comedy recap one lego hishe  chirrut vs everything wonder woman should have ended guardians of the galaxy vol should have ended jurassic world should have ended spoils movies kong skull island should have ended rogue one should have ended moana should have ended the lego batman movie should have ended doctor strange should have ended beauty and the beast should have ended star wars should have ended special edition hishe reviews pub  the boss battle harry potter in  seconds squad hishe guardians of the galaxy vol should have ended trek beyond hishe cafe batman go war hishe pub  the new smile batman v superman should have ended out of the shadows hishe deadpool should have ended swap  gladiator starring iron man xmen days of future past should have ended wars  revenge of the sith hishe book hishe blood  a batman v superman and bad blood parody ft batman pub  the new smile',\n",
              "       'call of duty black ops  multiplayer raises the bar for the famed multiplayer mode delivering the most thrilling grounded combat experience yet with a focus on tactical gameplay and player choicecall of duty black ops  is available october   preorder at participating retailers on disc or digital download and get private beta access  us for all the latest intel web  facebook  and   and   and  callofduty'],\n",
              "      dtype=object)"
            ]
          },
          "metadata": {},
          "execution_count": 11
        }
      ]
    },
    {
      "cell_type": "markdown",
      "metadata": {
        "id": "7XJvdGSucsHb"
      },
      "source": [
        "# Using TfidfVectorizer to calculate the Tfidf of the set into the x_data"
      ]
    },
    {
      "cell_type": "markdown",
      "metadata": {
        "id": "G0IjNCWBcsHc"
      },
      "source": [
        "The TF-IDF vectorizer with a higher minimum and a lower max"
      ]
    },
    {
      "cell_type": "code",
      "metadata": {
        "id": "UbxAP_09csHd",
        "colab": {
          "base_uri": "https://localhost:8080/"
        },
        "outputId": "5498e74d-0250-406b-a458-bdfd7d9465c3"
      },
      "source": [
        "import sklearn.feature_extraction.text as sk_text\n",
        "\n",
        "vectorizer = sk_text.TfidfVectorizer(stop_words='english',\n",
        "                             max_features = 50,\n",
        "                             min_df=5, \n",
        "                             #max_df=5\n",
        "                             )\n",
        "\n",
        "#min_df: ignore terms that have a document frequency < min_df.\n",
        "#max_df: ignore terms that have a document frequency > max_df\n",
        "\n",
        "matrix = vectorizer.fit_transform(text['description'], text['tags'])\n",
        "\n",
        "x_data = matrix.toarray()     #  convert it to numpy array\n",
        "\n",
        "print(x_data)\n",
        "print(x_data.shape)\n",
        "print(vectorizer.get_feature_names())\n",
        "print(len(vectorizer.get_feature_names()))\n"
      ],
      "execution_count": 12,
      "outputs": [
        {
          "output_type": "stream",
          "name": "stdout",
          "text": [
            "[[0.         0.         0.30754216 ... 0.         0.         0.        ]\n",
            " [0.         0.         0.20074925 ... 0.         0.         0.21058858]\n",
            " [0.         0.         0.         ... 0.         0.         0.        ]\n",
            " ...\n",
            " [0.         0.         0.         ... 0.         0.         0.        ]\n",
            " [0.         0.         0.         ... 0.         0.49594483 0.        ]\n",
            " [0.         0.         0.         ... 0.         0.         0.        ]]\n",
            "(40949, 50)\n",
            "['best', 'box', 'channel', 'check', 'click', 'code', 'day', 'dont', 'facebook', 'follow', 'free', 'google', 'im', 'instagram', 'jimmy', 'just', 'know', 'late', 'latest', 'life', 'like', 'live', 'love', 'make', 'music', 'nbc', 'new', 'news', 'night', 'official', 'people', 'play', 'production', 'snapchat', 'social', 'subscribe', 'thanks', 'time', 'tumblr', 'twitter', 'use', 'video', 'videos', 'visit', 'want', 'watch', 'way', 'website', 'world', 'youtube']\n",
            "50\n"
          ]
        }
      ]
    },
    {
      "cell_type": "markdown",
      "metadata": {
        "id": "Q0bRpZb0csHg"
      },
      "source": [
        "The TF-IDF vectorizer with a lower minimum and a higher max"
      ]
    },
    {
      "cell_type": "code",
      "metadata": {
        "scrolled": true,
        "id": "PHwFEMKocsHh",
        "colab": {
          "base_uri": "https://localhost:8080/"
        },
        "outputId": "3cb4f1e8-a2f7-478e-9cfc-0172233a1cb0"
      },
      "source": [
        "import sklearn.feature_extraction.text as sk_text\n",
        "\n",
        "vectorizer_with_higher_parameters = sk_text.TfidfVectorizer(stop_words='english',\n",
        "                             max_features = 100,\n",
        "                             min_df=2, \n",
        "                             #max_df=5\n",
        "                             )\n",
        "\n",
        "#min_df: ignore terms that have a document frequency < min_df.\n",
        "#max_df: ignore terms that have a document frequency > max_df\n",
        "\n",
        "matrix_with_higher_parameters = vectorizer_with_higher_parameters.fit_transform(text['description'], text['tags'])\n",
        "\n",
        "x_data_with_higher_parameters = matrix_with_higher_parameters.toarray()     #  convert it to numpy array\n",
        "\n",
        "print(x_data)\n",
        "print(x_data.shape)\n",
        "print(vectorizer_with_higher_parameters.get_feature_names())\n",
        "print(len(vectorizer_with_higher_parameters.get_feature_names()))"
      ],
      "execution_count": 13,
      "outputs": [
        {
          "output_type": "stream",
          "name": "stdout",
          "text": [
            "[[0.         0.         0.30754216 ... 0.         0.         0.        ]\n",
            " [0.         0.         0.20074925 ... 0.         0.         0.21058858]\n",
            " [0.         0.         0.         ... 0.         0.         0.        ]\n",
            " ...\n",
            " [0.         0.         0.         ... 0.         0.         0.        ]\n",
            " [0.         0.         0.         ... 0.         0.49594483 0.        ]\n",
            " [0.         0.         0.         ... 0.         0.         0.        ]]\n",
            "(40949, 50)\n",
            "['available', 'beauty', 'best', 'big', 'box', 'business', 'buy', 'camera', 'cbs', 'channel', 'check', 'click', 'code', 'come', 'connect', 'content', 'day', 'director', 'dont', 'download', 'entertainment', 'episode', 'episodes', 'exclusive', 'facebook', 'favorite', 'film', 'follow', 'food', 'free', 'game', 'google', 'got', 'home', 'im', 'instagram', 'james', 'jimmy', 'join', 'just', 'know', 'late', 'latest', 'life', 'like', 'link', 'links', 'live', 'look', 'love', 'make', 'makeup', 'media', 'merch', 'movie', 'music', 'nbc', 'need', 'new', 'news', 'night', 'official', 'online', 'original', 'patreon', 'people', 'play', 'producer', 'production', 'products', 'series', 'snapchat', 'social', 'song', 'spotify', 'star', 'stream', 'subscribe', 'support', 'thank', 'thanks', 'things', 'think', 'time', 'today', 'try', 'tumblr', 'twitter', 'use', 'video', 'videos', 'visit', 'voice', 'want', 'watch', 'way', 'website', 'world', 'youre', 'youtube']\n",
            "100\n"
          ]
        }
      ]
    },
    {
      "cell_type": "markdown",
      "metadata": {
        "id": "lz8bFSH4csHk"
      },
      "source": [
        "##Visualizing the top 50 words and it's frequency"
      ]
    },
    {
      "cell_type": "code",
      "metadata": {
        "id": "ybA2MD5gcsHl",
        "colab": {
          "base_uri": "https://localhost:8080/",
          "height": 658
        },
        "outputId": "41cce1cc-3b5b-44e8-a23b-1b2bf5bbcc1a"
      },
      "source": [
        "from yellowbrick.text import FreqDistVisualizer\n",
        "from yellowbrick.datasets import load_hobbies\n",
        "\n",
        "# Visualizing the frequency of the top 50 words with a higher minimum and\n",
        "# lower max document frequency threshold.\n",
        "\n",
        "feature_names = vectorizer.get_feature_names()\n",
        "visualizer = FreqDistVisualizer(features=feature_names, orient='v')\n",
        "visualizer.fit(matrix)"
      ],
      "execution_count": 14,
      "outputs": [
        {
          "output_type": "stream",
          "name": "stderr",
          "text": [
            "/usr/local/lib/python3.7/dist-packages/sklearn/utils/deprecation.py:144: FutureWarning: The sklearn.metrics.classification module is  deprecated in version 0.22 and will be removed in version 0.24. The corresponding classes / functions should instead be imported from sklearn.metrics. Anything that cannot be imported from sklearn.metrics is now part of the private API.\n",
            "  warnings.warn(message, FutureWarning)\n",
            "/usr/local/lib/python3.7/dist-packages/sklearn/utils/deprecation.py:144: FutureWarning: The sklearn.datasets.base module is  deprecated in version 0.22 and will be removed in version 0.24. The corresponding classes / functions should instead be imported from sklearn.datasets. Anything that cannot be imported from sklearn.datasets is now part of the private API.\n",
            "  warnings.warn(message, FutureWarning)\n",
            "/usr/local/lib/python3.7/dist-packages/sklearn/base.py:197: FutureWarning: From version 0.24, get_params will raise an AttributeError if a parameter cannot be retrieved as an instance attribute. Previously it would return None.\n",
            "  FutureWarning)\n"
          ]
        },
        {
          "output_type": "execute_result",
          "data": {
            "text/plain": [
              "FrequencyVisualizer(ax=<matplotlib.axes._subplots.AxesSubplot object at 0x7fb9b2f14b50>,\n",
              "                    color=None,\n",
              "                    features=['best', 'box', 'channel', 'check', 'click',\n",
              "                              'code', 'day', 'dont', 'facebook', 'follow',\n",
              "                              'free', 'google', 'im', 'instagram', 'jimmy',\n",
              "                              'just', 'know', 'late', 'latest', 'life', 'like',\n",
              "                              'live', 'love', 'make', 'music', 'nbc', 'new',\n",
              "                              'news', 'night', 'official', ...],\n",
              "                    n=None, orient='v')"
            ]
          },
          "metadata": {},
          "execution_count": 14
        },
        {
          "output_type": "display_data",
          "data": {
            "image/png": "[encoded data removed]",
            "text/plain": [
              "<Figure size 576x396 with 1 Axes>"
            ]
          },
          "metadata": {}
        }
      ]
    },
    {
      "cell_type": "code",
      "metadata": {
        "colab": {
          "base_uri": "https://localhost:8080/",
          "height": 607
        },
        "id": "zRXUW0pIy4Uh",
        "outputId": "0cddc0c4-b65a-482e-c78d-9c0aee3c5ae2"
      },
      "source": [
        "# Visualizing the frequency of the top 50 words with a lower minimum and\n",
        "# higher max document frequency threshold.\n",
        "feature_names = vectorizer_with_higher_parameters.get_feature_names()\n",
        "visualizer = FreqDistVisualizer(features=feature_names, orient='v')\n",
        "visualizer.fit(matrix_with_higher_parameters)"
      ],
      "execution_count": 15,
      "outputs": [
        {
          "output_type": "stream",
          "name": "stderr",
          "text": [
            "/usr/local/lib/python3.7/dist-packages/sklearn/base.py:197: FutureWarning: From version 0.24, get_params will raise an AttributeError if a parameter cannot be retrieved as an instance attribute. Previously it would return None.\n",
            "  FutureWarning)\n"
          ]
        },
        {
          "output_type": "execute_result",
          "data": {
            "text/plain": [
              "FrequencyVisualizer(ax=<matplotlib.axes._subplots.AxesSubplot object at 0x7fb9b2ef4150>,\n",
              "                    color=None,\n",
              "                    features=['available', 'beauty', 'best', 'big', 'box',\n",
              "                              'business', 'buy', 'camera', 'cbs', 'channel',\n",
              "                              'check', 'click', 'code', 'come', 'connect',\n",
              "                              'content', 'day', 'director', 'dont', 'download',\n",
              "                              'entertainment', 'episode', 'episodes',\n",
              "                              'exclusive', 'facebook', 'favorite', 'film',\n",
              "                              'follow', 'food', 'free', ...],\n",
              "                    n=None, orient='v')"
            ]
          },
          "metadata": {},
          "execution_count": 15
        },
        {
          "output_type": "display_data",
          "data": {
            "image/png": "[encoded data removed]",
            "text/plain": [
              "<Figure size 576x396 with 1 Axes>"
            ]
          },
          "metadata": {}
        }
      ]
    },
    {
      "cell_type": "markdown",
      "metadata": {
        "id": "yqlgwRsVcsHn"
      },
      "source": [
        "## Splitting the data\n"
      ]
    },
    {
      "cell_type": "markdown",
      "metadata": {
        "id": "xQCAHrvncsHo"
      },
      "source": [
        "Splitting the x data with the lower max parameters "
      ]
    },
    {
      "cell_type": "code",
      "metadata": {
        "scrolled": true,
        "id": "bK0lbcJIcsHo"
      },
      "source": [
        "from sklearn.model_selection import train_test_split\n",
        "\n",
        "x_train, x_test, y_train, y_test = train_test_split(x_data, y_data, train_size=0.25, random_state=42)\n"
      ],
      "execution_count": 16,
      "outputs": []
    },
    {
      "cell_type": "markdown",
      "metadata": {
        "id": "Qd0PjBlWcsHq"
      },
      "source": [
        "Splitting the x data with the higher max parameters "
      ]
    },
    {
      "cell_type": "code",
      "metadata": {
        "scrolled": true,
        "id": "vXUGMFUucsHr"
      },
      "source": [
        "from sklearn.model_selection import train_test_split\n",
        "\n",
        "x_train_with_higher_parameters, x_test_with_higher_parameters, y_train, y_test = train_test_split(x_data_with_higher_parameters, y_data, train_size=0.25, random_state=42)\n"
      ],
      "execution_count": 17,
      "outputs": []
    },
    {
      "cell_type": "markdown",
      "metadata": {
        "id": "BAXWepm3csHt"
      },
      "source": [
        "# Fully-Connected_NN"
      ]
    },
    {
      "cell_type": "markdown",
      "metadata": {
        "id": "ltaElrUCcsHt"
      },
      "source": [
        "## Adding layers to the Fully-Connected Neural Network"
      ]
    },
    {
      "cell_type": "code",
      "metadata": {
        "id": "j5weNTs9csHu"
      },
      "source": [
        "import os\n",
        "\n",
        "from sklearn.model_selection import train_test_split\n",
        "\n",
        "from sklearn import metrics\n",
        "\n",
        "from tensorflow.keras.models import Sequential\n",
        "from tensorflow.keras.layers import Dense, Activation\n",
        "from tensorflow.keras.callbacks import EarlyStopping\n",
        "from tensorflow.keras.callbacks import ModelCheckpoint\n",
        "\n",
        "model = Sequential()\n",
        "\n",
        "model.add(Dense(100, input_dim=x_train.shape[1], activation='relu'))\n",
        "model.add(Dense(50,activation='relu'))\n",
        "model.add(Dense(20,activation='relu'))\n",
        "model.add(Dense(y_train.shape[1],activation='softmax'))\n",
        "\n",
        "model.compile(loss='categorical_crossentropy', optimizer='adam', metrics = ['accuracy'])\n"
      ],
      "execution_count": 18,
      "outputs": []
    },
    {
      "cell_type": "code",
      "metadata": {
        "id": "GbygWcHecsHx",
        "colab": {
          "base_uri": "https://localhost:8080/"
        },
        "outputId": "834bb7a1-a3be-4e4c-a858-ddc998317ca6"
      },
      "source": [
        "model.summary()"
      ],
      "execution_count": 19,
      "outputs": [
        {
          "output_type": "stream",
          "name": "stdout",
          "text": [
            "Model: \"sequential\"\n",
            "_________________________________________________________________\n",
            "Layer (type)                 Output Shape              Param #   \n",
            "=================================================================\n",
            "dense (Dense)                (None, 100)               5100      \n",
            "_________________________________________________________________\n",
            "dense_1 (Dense)              (None, 50)                5050      \n",
            "_________________________________________________________________\n",
            "dense_2 (Dense)              (None, 20)                1020      \n",
            "_________________________________________________________________\n",
            "dense_3 (Dense)              (None, 15)                315       \n",
            "=================================================================\n",
            "Total params: 11,485\n",
            "Trainable params: 11,485\n",
            "Non-trainable params: 0\n",
            "_________________________________________________________________\n"
          ]
        }
      ]
    },
    {
      "cell_type": "markdown",
      "metadata": {
        "id": "Q10bL23ScsH0"
      },
      "source": [
        "##Apply earlystopping"
      ]
    },
    {
      "cell_type": "code",
      "metadata": {
        "id": "P-0qfl9kcsH0",
        "colab": {
          "base_uri": "https://localhost:8080/"
        },
        "outputId": "2128e22d-ab76-4978-c56f-a382afbb2090"
      },
      "source": [
        "start_time = time.time()\n",
        "\n",
        "monitor = EarlyStopping(monitor='val_loss', min_delta=1e-3, patience=2, verbose=2, mode='auto')  \n",
        "\n",
        "checkpointer = ModelCheckpoint(filepath=\"best_weights.hdf5\", verbose=0, save_best_only=True) # save best model\n",
        "\n",
        "model.fit(x_train, y_train,validation_data=(x_test,y_test),callbacks=[monitor,checkpointer],verbose=2,epochs=100)\n",
        "\n",
        "# metrics\n",
        "print(f\"Model finshed performing in {time.time() - start_time:.6f} seconds\")"
      ],
      "execution_count": 20,
      "outputs": [
        {
          "output_type": "stream",
          "name": "stdout",
          "text": [
            "Epoch 1/100\n",
            "320/320 - 2s - loss: 2.1604 - accuracy: 0.3122 - val_loss: 1.9032 - val_accuracy: 0.3777\n",
            "Epoch 2/100\n",
            "320/320 - 2s - loss: 1.8006 - accuracy: 0.4204 - val_loss: 1.7398 - val_accuracy: 0.4493\n",
            "Epoch 3/100\n",
            "320/320 - 2s - loss: 1.6429 - accuracy: 0.4792 - val_loss: 1.6107 - val_accuracy: 0.4917\n",
            "Epoch 4/100\n",
            "320/320 - 2s - loss: 1.5252 - accuracy: 0.5137 - val_loss: 1.5224 - val_accuracy: 0.5167\n",
            "Epoch 5/100\n",
            "320/320 - 2s - loss: 1.4254 - accuracy: 0.5416 - val_loss: 1.4438 - val_accuracy: 0.5374\n",
            "Epoch 6/100\n",
            "320/320 - 1s - loss: 1.3418 - accuracy: 0.5702 - val_loss: 1.3780 - val_accuracy: 0.5639\n",
            "Epoch 7/100\n",
            "320/320 - 1s - loss: 1.2671 - accuracy: 0.6017 - val_loss: 1.3212 - val_accuracy: 0.5870\n",
            "Epoch 8/100\n",
            "320/320 - 2s - loss: 1.2022 - accuracy: 0.6206 - val_loss: 1.2675 - val_accuracy: 0.6028\n",
            "Epoch 9/100\n",
            "320/320 - 2s - loss: 1.1462 - accuracy: 0.6419 - val_loss: 1.2311 - val_accuracy: 0.6195\n",
            "Epoch 10/100\n",
            "320/320 - 1s - loss: 1.0963 - accuracy: 0.6603 - val_loss: 1.1911 - val_accuracy: 0.6343\n",
            "Epoch 11/100\n",
            "320/320 - 2s - loss: 1.0502 - accuracy: 0.6725 - val_loss: 1.1651 - val_accuracy: 0.6493\n",
            "Epoch 12/100\n",
            "320/320 - 1s - loss: 1.0076 - accuracy: 0.6886 - val_loss: 1.1878 - val_accuracy: 0.6353\n",
            "Epoch 13/100\n",
            "320/320 - 2s - loss: 0.9742 - accuracy: 0.6980 - val_loss: 1.1024 - val_accuracy: 0.6636\n",
            "Epoch 14/100\n",
            "320/320 - 1s - loss: 0.9377 - accuracy: 0.7052 - val_loss: 1.0970 - val_accuracy: 0.6699\n",
            "Epoch 15/100\n",
            "320/320 - 2s - loss: 0.9067 - accuracy: 0.7201 - val_loss: 1.0843 - val_accuracy: 0.6733\n",
            "Epoch 16/100\n",
            "320/320 - 1s - loss: 0.8809 - accuracy: 0.7244 - val_loss: 1.0553 - val_accuracy: 0.6895\n",
            "Epoch 17/100\n",
            "320/320 - 1s - loss: 0.8524 - accuracy: 0.7335 - val_loss: 1.0469 - val_accuracy: 0.6884\n",
            "Epoch 18/100\n",
            "320/320 - 1s - loss: 0.8341 - accuracy: 0.7399 - val_loss: 1.0339 - val_accuracy: 0.6928\n",
            "Epoch 19/100\n",
            "320/320 - 2s - loss: 0.8129 - accuracy: 0.7461 - val_loss: 1.0378 - val_accuracy: 0.6841\n",
            "Epoch 20/100\n",
            "320/320 - 1s - loss: 0.7957 - accuracy: 0.7495 - val_loss: 1.0235 - val_accuracy: 0.6976\n",
            "Epoch 21/100\n",
            "320/320 - 1s - loss: 0.7801 - accuracy: 0.7539 - val_loss: 1.0093 - val_accuracy: 0.7014\n",
            "Epoch 22/100\n",
            "320/320 - 2s - loss: 0.7869 - accuracy: 0.7489 - val_loss: 1.0113 - val_accuracy: 0.7045\n",
            "Epoch 23/100\n",
            "320/320 - 2s - loss: 0.8067 - accuracy: 0.7415 - val_loss: 1.0481 - val_accuracy: 0.6968\n",
            "Epoch 00023: early stopping\n",
            "Model finshed performing in 35.535773 seconds\n"
          ]
        }
      ]
    },
    {
      "cell_type": "markdown",
      "metadata": {
        "id": "HUj7Dc1NcsH2"
      },
      "source": [
        "Calculate the model score"
      ]
    },
    {
      "cell_type": "code",
      "metadata": {
        "id": "zuotAQkxcsH3",
        "colab": {
          "base_uri": "https://localhost:8080/"
        },
        "outputId": "d383ae24-4ade-4740-9a8d-2b4ff180176f"
      },
      "source": [
        "score = model.evaluate(x_test, y_test, verbose=0)\n",
        "score"
      ],
      "execution_count": 21,
      "outputs": [
        {
          "output_type": "execute_result",
          "data": {
            "text/plain": [
              "[1.0480635166168213, 0.6967960596084595]"
            ]
          },
          "metadata": {},
          "execution_count": 21
        }
      ]
    },
    {
      "cell_type": "markdown",
      "metadata": {
        "id": "8tQvfUX3csH5"
      },
      "source": [
        "Calculate loss and accuracy"
      ]
    },
    {
      "cell_type": "code",
      "metadata": {
        "id": "Z33I2gGUcsH6",
        "colab": {
          "base_uri": "https://localhost:8080/"
        },
        "outputId": "0a7859c5-5474-450e-c2a4-531c8ec3e8ef"
      },
      "source": [
        "print('Test loss: {}'.format(score[0]))\n",
        "print('Test accuracy: {}'.format(score[1]))"
      ],
      "execution_count": 22,
      "outputs": [
        {
          "output_type": "stream",
          "name": "stdout",
          "text": [
            "Test loss: 1.0480635166168213\n",
            "Test accuracy: 0.6967960596084595\n"
          ]
        }
      ]
    },
    {
      "cell_type": "markdown",
      "metadata": {
        "id": "LyvTfKMHcsH8"
      },
      "source": [
        "##confusion matrix\n",
        "\n"
      ]
    },
    {
      "cell_type": "code",
      "metadata": {
        "id": "M3vdt2necsH8",
        "colab": {
          "base_uri": "https://localhost:8080/",
          "height": 877
        },
        "outputId": "fc0a76bb-43d6-48be-9338-d2feea996303"
      },
      "source": [
        "from sklearn import metrics\n",
        "\n",
        "y_true = np.argmax(y_test.to_numpy(),axis=1)\n",
        "pred = model.predict(x_test)\n",
        "#pred = np.argmax(pred,axis=1)\n",
        "pred = np.argmax(pred,axis=1)\n",
        "\n",
        "score = metrics.accuracy_score(y_true, pred)\n",
        "print('Accuracy: {}'.format(score))\n",
        "\n",
        "\n",
        "f1 = metrics.f1_score(y_true, pred, average='weighted')\n",
        "print('Averaged F1: {}'.format(f1))\n",
        "\n",
        "           \n",
        "print(metrics.classification_report(y_true, pred, digits = 4))\n",
        "\n",
        "from sklearn.metrics import confusion_matrix\n",
        "import numpy as np\n",
        "# Plot a confusion matrix.\n",
        "# cm is the confusion matrix, names are the names of the classes.\n",
        "def plot_confusion_matrix(cm, names, title='Confusion matrix', cmap=plt.cm.Blues):\n",
        "    plt.imshow(cm, interpolation='nearest', cmap=cmap)\n",
        "    plt.title(title)\n",
        "    plt.colorbar()\n",
        "    tick_marks = np.arange(len(names))\n",
        "    plt.xticks(tick_marks, names, rotation=45)\n",
        "    plt.yticks(tick_marks, names)\n",
        "    plt.tight_layout()\n",
        "    plt.ylabel('True label')\n",
        "    plt.xlabel('Predicted label')\n",
        "    \n",
        "cm = confusion_matrix(y_true, pred)\n",
        "plt.figure()\n",
        "plot_confusion_matrix(cm, y_data.columns)\n",
        "plt.show()"
      ],
      "execution_count": 23,
      "outputs": [
        {
          "output_type": "stream",
          "name": "stdout",
          "text": [
            "Accuracy: 0.6967960406355822\n",
            "Averaged F1: 0.6928231416256254\n",
            "              precision    recall  f1-score   support\n",
            "\n",
            "           0     0.8374    0.6647    0.7411      2866\n",
            "           1     0.7278    0.7289    0.7284      1247\n",
            "           2     0.5611    0.8767    0.6843      7467\n",
            "           3     0.6850    0.6219    0.6520      1759\n",
            "           4     0.6282    0.5559    0.5899       617\n",
            "           5     0.7781    0.7997    0.7888      3086\n",
            "           6     0.8693    0.7635    0.8130      4880\n",
            "           7     0.9253    0.4806    0.6326      1831\n",
            "           8     0.0000    0.0000    0.0000        46\n",
            "           9     0.7568    0.4525    0.5664      2413\n",
            "          10     0.5060    0.6148    0.5551       688\n",
            "          11     0.7806    0.4207    0.5467      1835\n",
            "          12     0.0000    0.0000    0.0000        38\n",
            "          13     0.7242    0.6826    0.7028      1635\n",
            "          14     0.7826    0.4145    0.5419       304\n",
            "\n",
            "    accuracy                         0.6968     30712\n",
            "   macro avg     0.6375    0.5385    0.5695     30712\n",
            "weighted avg     0.7312    0.6968    0.6928     30712\n",
            "\n"
          ]
        },
        {
          "output_type": "stream",
          "name": "stderr",
          "text": [
            "/usr/local/lib/python3.7/dist-packages/sklearn/metrics/_classification.py:1272: UndefinedMetricWarning: Precision and F-score are ill-defined and being set to 0.0 in labels with no predicted samples. Use `zero_division` parameter to control this behavior.\n",
            "  _warn_prf(average, modifier, msg_start, len(result))\n"
          ]
        },
        {
          "output_type": "display_data",
          "data": {
            "image/png": "[encoded data removed]",
            "text/plain": [
              "<Figure size 576x396 with 2 Axes>"
            ]
          },
          "metadata": {}
        }
      ]
    },
    {
      "cell_type": "markdown",
      "metadata": {
        "id": "0LZa5NducsH_"
      },
      "source": [
        "# Try CNN"
      ]
    },
    {
      "cell_type": "markdown",
      "metadata": {
        "id": "Q4nt26fVcsH_"
      },
      "source": [
        "Expanding the test and train dimensions to fit the CNN"
      ]
    },
    {
      "cell_type": "code",
      "metadata": {
        "id": "TEWMFcwXcsIA"
      },
      "source": [
        "x_data.shape\n",
        "x_test = np.expand_dims(x_test, axis=2)\n",
        "x_train = np.expand_dims(x_train, axis=2)"
      ],
      "execution_count": 24,
      "outputs": []
    },
    {
      "cell_type": "code",
      "metadata": {
        "id": "7XGemrXkcsIB",
        "colab": {
          "base_uri": "https://localhost:8080/"
        },
        "outputId": "8f4ee9fe-77ed-463f-8b52-b6900fccc19a"
      },
      "source": [
        "print(x_train.shape)\n",
        "print(y_train.shape)"
      ],
      "execution_count": 25,
      "outputs": [
        {
          "output_type": "stream",
          "name": "stdout",
          "text": [
            "(10237, 50, 1)\n",
            "(10237, 15)\n"
          ]
        }
      ]
    },
    {
      "cell_type": "markdown",
      "metadata": {
        "id": "WTUA5huPcsID"
      },
      "source": [
        "## Adding layers to the Convolution Neural Network"
      ]
    },
    {
      "cell_type": "code",
      "metadata": {
        "id": "xoBzW-ePcsIE"
      },
      "source": [
        "from tensorflow.keras.models import Sequential\n",
        "from tensorflow.keras.layers import Dense, Dropout, Flatten\n",
        "from tensorflow.keras.layers import Conv1D, MaxPooling1D\n",
        "batch_size = 50\n",
        "cnn = Sequential()\n",
        "cnn.add(Conv1D(256, kernel_size=2, strides=2, activation='relu', input_shape=(50, 1)))\n",
        "\n",
        "cnn.add(Conv1D(128, kernel_size=(2), strides=(2), activation='relu'))\n",
        "cnn.add(MaxPooling1D(pool_size=(2)))\n",
        "cnn.add(Dropout(0.5))\n",
        "\n",
        "cnn.add(Flatten())\n",
        "cnn.add(Dense(64, activation=\"relu\"))\n",
        "cnn.add(Dropout(0.5))\n",
        "\n",
        "cnn.add(Flatten())\n",
        "cnn.add(Dense(32, activation=\"relu\"))\n",
        "cnn.add(Dropout(0.5))\n",
        "\n",
        "cnn.add(Dense(15, activation=\"softmax\"))\n"
      ],
      "execution_count": 26,
      "outputs": []
    },
    {
      "cell_type": "code",
      "metadata": {
        "id": "rkoyMTnscsIG",
        "colab": {
          "base_uri": "https://localhost:8080/"
        },
        "outputId": "bff20a3a-cf30-407c-f84c-317d1749986c"
      },
      "source": [
        "cnn.summary()\n",
        "\n",
        "# set the training size and testing size to limit the amount of time needed to execute\n",
        "training_size = 5000\n",
        "testing_size = 1000"
      ],
      "execution_count": 27,
      "outputs": [
        {
          "output_type": "stream",
          "name": "stdout",
          "text": [
            "Model: \"sequential_1\"\n",
            "_________________________________________________________________\n",
            "Layer (type)                 Output Shape              Param #   \n",
            "=================================================================\n",
            "conv1d (Conv1D)              (None, 25, 256)           768       \n",
            "_________________________________________________________________\n",
            "conv1d_1 (Conv1D)            (None, 12, 128)           65664     \n",
            "_________________________________________________________________\n",
            "max_pooling1d (MaxPooling1D) (None, 6, 128)            0         \n",
            "_________________________________________________________________\n",
            "dropout (Dropout)            (None, 6, 128)            0         \n",
            "_________________________________________________________________\n",
            "flatten (Flatten)            (None, 768)               0         \n",
            "_________________________________________________________________\n",
            "dense_4 (Dense)              (None, 64)                49216     \n",
            "_________________________________________________________________\n",
            "dropout_1 (Dropout)          (None, 64)                0         \n",
            "_________________________________________________________________\n",
            "flatten_1 (Flatten)          (None, 64)                0         \n",
            "_________________________________________________________________\n",
            "dense_5 (Dense)              (None, 32)                2080      \n",
            "_________________________________________________________________\n",
            "dropout_2 (Dropout)          (None, 32)                0         \n",
            "_________________________________________________________________\n",
            "dense_6 (Dense)              (None, 15)                495       \n",
            "=================================================================\n",
            "Total params: 118,223\n",
            "Trainable params: 118,223\n",
            "Non-trainable params: 0\n",
            "_________________________________________________________________\n"
          ]
        }
      ]
    },
    {
      "cell_type": "markdown",
      "metadata": {
        "id": "uMAfEw7kcsII"
      },
      "source": [
        "## Train the data on the CNN model with early stopping"
      ]
    },
    {
      "cell_type": "code",
      "metadata": {
        "id": "JHYYD3p5csII",
        "colab": {
          "base_uri": "https://localhost:8080/"
        },
        "outputId": "f73387a6-687a-4ee0-a8e5-4c85d860686d"
      },
      "source": [
        "from tensorflow.keras.callbacks import EarlyStopping\n",
        "\n",
        "start_time = time.time()\n",
        "#x_train = np.expand_dims(x_train, axis=2)\n",
        "# define optimizer and objective, compile cnn\n",
        "\n",
        "cnn.compile(loss=\"categorical_crossentropy\", optimizer=\"adam\", metrics = ['accuracy'])\n",
        "monitor = EarlyStopping(monitor='val_loss', min_delta=1e-3, patience=2, verbose=2, mode='auto') \n",
        "#cnn.summary()\n",
        "#cnn.fit(x_train[0:1000], y_train[0:1000],validation_data=(x_test[0:100],y_test[0:100]),callbacks=[monitor],verbose=2,epochs=1000)\n",
        "cnn.fit(x_train, y_train,     \n",
        "          epochs=10,\n",
        "          verbose=2,\n",
        "          validation_data=(x_test,y_test),\n",
        "          callbacks=[monitor])\n",
        "\n",
        "elapsed_time = time.time() - start_time\n",
        "\n",
        "print(\"Elapsed time: {}\".format(hms_string(elapsed_time)))\n",
        "\n",
        "\n",
        "\n",
        "\n"
      ],
      "execution_count": 28,
      "outputs": [
        {
          "output_type": "stream",
          "name": "stdout",
          "text": [
            "Epoch 1/10\n",
            "320/320 - 6s - loss: 2.3715 - accuracy: 0.2412 - val_loss: 2.1483 - val_accuracy: 0.3045\n",
            "Epoch 2/10\n",
            "320/320 - 5s - loss: 2.2011 - accuracy: 0.2890 - val_loss: 2.0520 - val_accuracy: 0.3351\n",
            "Epoch 3/10\n",
            "320/320 - 5s - loss: 2.1457 - accuracy: 0.3094 - val_loss: 2.0161 - val_accuracy: 0.3484\n",
            "Epoch 4/10\n",
            "320/320 - 5s - loss: 2.1044 - accuracy: 0.3208 - val_loss: 1.9859 - val_accuracy: 0.3503\n",
            "Epoch 5/10\n",
            "320/320 - 5s - loss: 2.0638 - accuracy: 0.3306 - val_loss: 1.9367 - val_accuracy: 0.3640\n",
            "Epoch 6/10\n",
            "320/320 - 5s - loss: 2.0415 - accuracy: 0.3376 - val_loss: 1.9154 - val_accuracy: 0.3771\n",
            "Epoch 7/10\n",
            "320/320 - 5s - loss: 2.0244 - accuracy: 0.3412 - val_loss: 1.9016 - val_accuracy: 0.3861\n",
            "Epoch 8/10\n",
            "320/320 - 5s - loss: 1.9983 - accuracy: 0.3478 - val_loss: 1.8611 - val_accuracy: 0.3902\n",
            "Epoch 9/10\n",
            "320/320 - 5s - loss: 1.9830 - accuracy: 0.3510 - val_loss: 1.8481 - val_accuracy: 0.3883\n",
            "Epoch 10/10\n",
            "320/320 - 5s - loss: 1.9705 - accuracy: 0.3505 - val_loss: 1.8167 - val_accuracy: 0.4011\n",
            "Elapsed time: 0:00:48.51\n"
          ]
        }
      ]
    },
    {
      "cell_type": "markdown",
      "metadata": {
        "id": "IsKRXs8PcsIK"
      },
      "source": [
        "Calculate Score"
      ]
    },
    {
      "cell_type": "code",
      "metadata": {
        "id": "xW2sT_WTcsIK",
        "colab": {
          "base_uri": "https://localhost:8080/"
        },
        "outputId": "50e059c4-e752-4075-be5f-e7091d6e3065"
      },
      "source": [
        "# evaluate() computes the loss and accuracy\n",
        "score = cnn.evaluate(x_test, y_test, verbose=0)\n",
        "score"
      ],
      "execution_count": 29,
      "outputs": [
        {
          "output_type": "execute_result",
          "data": {
            "text/plain": [
              "[1.8166680335998535, 0.40114614367485046]"
            ]
          },
          "metadata": {},
          "execution_count": 29
        }
      ]
    },
    {
      "cell_type": "markdown",
      "metadata": {
        "id": "kHXi0k84csIM"
      },
      "source": [
        "Calculate loss and accuracy"
      ]
    },
    {
      "cell_type": "code",
      "metadata": {
        "id": "iKwb0RjucsIM",
        "colab": {
          "base_uri": "https://localhost:8080/"
        },
        "outputId": "2363a679-1a09-4779-9966-85b69b9c4466"
      },
      "source": [
        "print('Test loss: {}'.format(score[0]))\n",
        "print('Test accuracy: {}'.format(score[1]))"
      ],
      "execution_count": 30,
      "outputs": [
        {
          "output_type": "stream",
          "name": "stdout",
          "text": [
            "Test loss: 1.8166680335998535\n",
            "Test accuracy: 0.40114614367485046\n"
          ]
        }
      ]
    },
    {
      "cell_type": "markdown",
      "metadata": {
        "id": "v1OOuh5OcsIO"
      },
      "source": [
        "## Display confusion matrix for CNN"
      ]
    },
    {
      "cell_type": "code",
      "metadata": {
        "scrolled": true,
        "id": "KxOoRf1ZcsIO",
        "colab": {
          "base_uri": "https://localhost:8080/",
          "height": 877
        },
        "outputId": "c4530a19-0229-4a91-9523-024b8747cf83"
      },
      "source": [
        "from sklearn import metrics\n",
        "\n",
        "y_true = np.argmax(y_test.to_numpy(),axis=1)\n",
        "pred = cnn.predict(x_test)\n",
        "#pred = np.argmax(pred,axis=1)\n",
        "pred = np.argmax(pred,axis=1)\n",
        "\n",
        "score = metrics.accuracy_score(y_true, pred)\n",
        "print('Accuracy: {}'.format(score))\n",
        "\n",
        "\n",
        "f1 = metrics.f1_score(y_true, pred, average='weighted')\n",
        "print('Averaged F1: {}'.format(f1))\n",
        "\n",
        "           \n",
        "print(metrics.classification_report(y_true, pred, digits = 4))\n",
        "\n",
        "from sklearn.metrics import confusion_matrix\n",
        "import numpy as np\n",
        "# Plot a confusion matrix.\n",
        "# cm is the confusion matrix, names are the names of the classes.\n",
        "def plot_confusion_matrix(cm, names, title='Confusion matrix', cmap=plt.cm.Blues):\n",
        "    plt.imshow(cm, interpolation='nearest', cmap=cmap)\n",
        "    plt.title(title)\n",
        "    plt.colorbar()\n",
        "    tick_marks = np.arange(len(names))\n",
        "    plt.xticks(tick_marks, names, rotation=90)\n",
        "    plt.yticks(tick_marks, names)\n",
        "    plt.tight_layout()\n",
        "    plt.ylabel('True label')\n",
        "    plt.xlabel('Predicted label')\n",
        "    \n",
        "cm = confusion_matrix(y_true, pred)\n",
        "plt.figure()\n",
        "plot_confusion_matrix(cm, y_data.columns)\n",
        "plt.show()\n",
        "\n",
        "\n"
      ],
      "execution_count": 38,
      "outputs": [
        {
          "output_type": "stream",
          "name": "stdout",
          "text": [
            "Accuracy: 0.40114613180515757\n",
            "Averaged F1: 0.3277764853674197\n",
            "              precision    recall  f1-score   support\n",
            "\n",
            "           0     0.6163    0.2275    0.3323      2866\n",
            "           1     0.0000    0.0000    0.0000      1247\n",
            "           2     0.3200    0.7552    0.4495      7467\n",
            "           3     0.0000    0.0000    0.0000      1759\n",
            "           4     0.0000    0.0000    0.0000       617\n",
            "           5     0.3290    0.5373    0.4081      3086\n",
            "           6     0.6284    0.6961    0.6605      4880\n",
            "           7     0.5502    0.3954    0.4601      1831\n",
            "           8     0.0000    0.0000    0.0000        46\n",
            "           9     1.0000    0.0029    0.0058      2413\n",
            "          10     0.0000    0.0000    0.0000       688\n",
            "          11     0.0000    0.0000    0.0000      1835\n",
            "          12     0.0000    0.0000    0.0000        38\n",
            "          13     0.9240    0.1486    0.2561      1635\n",
            "          14     0.0000    0.0000    0.0000       304\n",
            "\n",
            "    accuracy                         0.4011     30712\n",
            "   macro avg     0.2912    0.1842    0.1715     30712\n",
            "weighted avg     0.4288    0.4011    0.3278     30712\n",
            "\n"
          ]
        },
        {
          "output_type": "stream",
          "name": "stderr",
          "text": [
            "/usr/local/lib/python3.7/dist-packages/sklearn/metrics/_classification.py:1272: UndefinedMetricWarning: Precision and F-score are ill-defined and being set to 0.0 in labels with no predicted samples. Use `zero_division` parameter to control this behavior.\n",
            "  _warn_prf(average, modifier, msg_start, len(result))\n"
          ]
        },
        {
          "output_type": "display_data",
          "data": {
            "image/png": "[encoded data removed]",
            "text/plain": [
              "<Figure size 576x396 with 2 Axes>"
            ]
          },
          "metadata": {}
        }
      ]
    }
  ]
}